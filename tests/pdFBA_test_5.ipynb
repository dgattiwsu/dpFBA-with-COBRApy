{
 "cells": [
  {
   "cell_type": "markdown",
   "id": "03985c91",
   "metadata": {},
   "source": [
    "### Simulating two different species (*E. coli* and *Strept. thermophilus*) competing for the same substrates using CMBpy"
   ]
  },
  {
   "cell_type": "code",
   "execution_count": 1,
   "id": "9ec02cbd",
   "metadata": {},
   "outputs": [
    {
     "name": "stdout",
     "output_type": "stream",
     "text": [
      "pyparsing import\n",
      "CBGLPK based on swiglpk: not all methods implimented yet! 5.0\n",
      "\n",
      "*****\n",
      "Using CPLEX\n",
      "*****\n",
      "\n",
      "doFBAMinSum not available with GLPK\n",
      "\n",
      "\n",
      "***********************************************************************\n",
      "* Welcome to CBMPy (0.8.8) - PySCeS Constraint Based Modelling        *\n",
      "*       https://systemsbioinformatics.github.io/cbmpy/                *\n",
      "* Copyright (C) Brett G. Olivier, 2014 - 2024                         *\n",
      "* Systems Biology Lab, A-LIFE, AIMMS, Faculty of Science              *\n",
      "* Vrije Universiteit Amsterdam, Amsterdam, The Netherlands            *\n",
      "* This version of CBMPy distributed under the GNU GPL v 3.0 licence   *\n",
      "***********************************************************************\n",
      "\n"
     ]
    }
   ],
   "source": [
    "import matplotlib.pyplot as plt\n",
    "from cbmpy.CBModel import Model\n",
    "from dcFBA import DefaultModels\n",
    "from dcFBA.DynamicModels import DynamicParallelFBA\n"
   ]
  },
  {
   "cell_type": "code",
   "execution_count": 53,
   "id": "4fbab5e8",
   "metadata": {},
   "outputs": [
    {
     "name": "stdout",
     "output_type": "stream",
     "text": [
      "FBC version: 2\n",
      "M.getNumReactions: 95\n",
      "M.getNumSpecies: 72\n",
      "FBC.getNumObjectives: 1\n",
      "FBC.getNumParameters: 5\n",
      "FBC.getNumGeneProducts: 137\n",
      "Zero dimension compartment detected: e\n",
      "Zero dimension compartment detected: c\n",
      "FluxBounds process1: 0.012\n",
      "INFO: Active objective: obj\n",
      "Adding objective: obj\n",
      "FluxBounds process2: 0.005\n",
      "\n",
      "User defined contraint FBC version 2\n",
      "SBML3 load time: 0.785\n",
      "\n",
      "FBC version: 2\n",
      "M.getNumReactions: 656\n",
      "M.getNumSpecies: 632\n",
      "FBC.getNumObjectives: 1\n",
      "FBC.getNumParameters: 16\n",
      "FBC.getNumGeneProducts: 476\n",
      "Zero dimension compartment detected: e\n",
      "Zero dimension compartment detected: c\n",
      "FluxBounds process1: 0.024\n",
      "INFO: Active objective: obj\n",
      "Adding objective: obj\n",
      "FluxBounds process2: 0.023\n",
      "Gene G_CH8_1395 is not part of a GPR association. Will create anyway!\n",
      "Gene G_CH8_1397 is not part of a GPR association. Will create anyway!\n",
      "Gene G_CH8_1733 is not part of a GPR association. Will create anyway!\n",
      "Gene G_CH8_0614 is not part of a GPR association. Will create anyway!\n",
      "Gene G_CH8_1722 is not part of a GPR association. Will create anyway!\n",
      "Gene G_CH8_2001 is not part of a GPR association. Will create anyway!\n",
      "Gene G_CH8_1037 is not part of a GPR association. Will create anyway!\n",
      "Gene G_CH8_1040 is not part of a GPR association. Will create anyway!\n",
      "WARNING: Non-gpr gene detected. G_CH8_1395 G_CH8_1395 iRZ476\n",
      "WARNING: Non-gpr gene detected. G_CH8_1397 G_CH8_1397 iRZ476\n",
      "WARNING: Non-gpr gene detected. G_CH8_1733 G_CH8_1733 iRZ476\n",
      "WARNING: Non-gpr gene detected. G_CH8_0614 G_CH8_0614 iRZ476\n",
      "WARNING: Non-gpr gene detected. G_CH8_1722 G_CH8_1722 iRZ476\n",
      "WARNING: Non-gpr gene detected. G_CH8_2001 G_CH8_2001 iRZ476\n",
      "WARNING: Non-gpr gene detected. G_CH8_1037 G_CH8_1037 iRZ476\n",
      "WARNING: Non-gpr gene detected. G_CH8_1040 G_CH8_1040 iRZ476\n",
      "\n",
      "User defined contraint FBC version 2\n",
      "SBML3 load time: 0.808\n",
      "\n"
     ]
    }
   ],
   "source": [
    "model1_cbm: Model = DefaultModels.read_default_model(\"e_coli_core\")\n",
    "model2_cbm: Model = DefaultModels.read_default_model(\"strep_therm\")\n",
    "\n",
    "# Exchange reaction are not set correctly, here we fix this\n",
    "for rid in model1_cbm.getReactionIds():\n",
    "    if rid.startswith(\"R_EX\"):\n",
    "        reaction = model1_cbm.getReaction(rid)\n",
    "        reaction.is_exchange = True\n",
    "\n",
    "for rid in model2_cbm.getReactionIds():\n",
    "    if rid.startswith(\"R_EX\"):\n",
    "        reaction = model2_cbm.getReaction(rid)\n",
    "        reaction.is_exchange = True\n",
    "\n",
    "# Give the two models different glucose uptake rates\n",
    "model1_cbm.getReaction(\"R_GLCpts\").setUpperBound(10)\n",
    "model2_cbm.getReaction(\"R_GLCpts\").setUpperBound(6)\n",
    "\n",
    "# Restrict Lactose uptake\n",
    "model2_cbm.getReaction(\"R_LCTSGALex\").setLowerBound(0)\n",
    "model2_cbm.getReaction(\"R_LCTSt6\").setUpperBound(30)\n",
    "\n",
    "\n"
   ]
  },
  {
   "cell_type": "markdown",
   "id": "b531bc66",
   "metadata": {},
   "source": [
    "The ``DynamicParallelFBA`` class accepts a list of N models. In this example, we use two models as described before.\n",
    "\n",
    "Next, we specify the initial concentrations of both models and the initial concentrations of the external species.\n",
    "        "
   ]
  },
  {
   "cell_type": "code",
   "execution_count": 54,
   "id": "39eb2c29",
   "metadata": {},
   "outputs": [
    {
     "name": "stdout",
     "output_type": "stream",
     "text": [
      "getState1\n",
      "Model clone time: 0.3587949275970459\n",
      "getState1\n",
      "Model clone time: 0.26247096061706543\n"
     ]
    }
   ],
   "source": [
    "parallel_fba = DynamicParallelFBA(\n",
    "    [model1_cbm, model2_cbm],\n",
    "    [1.0, 1.0],\n",
    "    {\n",
    "        \"M_glc__D_e\": 100,\n",
    "        \"M_succ_e\": 0,\n",
    "        \"M_glu__L_e\": 0.0,\n",
    "        \"M_gln__L_e\": 0.0,\n",
    "        \"M_lcts_e\": 100,\n",
    "    }\n",
    ") "
   ]
  },
  {
   "cell_type": "markdown",
   "id": "35ad5493",
   "metadata": {},
   "source": [
    "To run the simulation, use the following code:"
   ]
  },
  {
   "cell_type": "code",
   "execution_count": 55,
   "id": "7518352a",
   "metadata": {},
   "outputs": [
    {
     "name": "stdout",
     "output_type": "stream",
     "text": [
      "User defined contraint FBC version 2\n",
      "\n",
      "cplx_constructLPfromFBA time: 0.00459599494934082\n",
      "\n",
      "Version identifier: 22.1.1.0 | 2022-11-28 | 9160aff4d\n",
      "CPXPARAM_Read_DataCheck                          1\n",
      "Tried aggregator 1 time.\n",
      "LP Presolve eliminated 16 rows and 16 columns.\n",
      "Aggregator did 24 substitutions.\n",
      "Reduced LP has 32 rows, 55 columns, and 217 nonzeros.\n",
      "Presolve time = 0.03 sec. (0.11 ticks)\n",
      "Initializing dual steep norms . . .\n",
      "\n",
      "Iteration log . . .\n",
      "Iteration:     1   Dual objective     =          1000.000000\n",
      "Solution available (status=optimal) type: 1\n",
      "Solution available (status=optimal) type: 1\n",
      "User defined contraint FBC version 2\n",
      "User defined contraint FBC version 2\n",
      "\n",
      "cplx_constructLPfromFBA time: 0.03836703300476074\n",
      "\n",
      "Version identifier: 22.1.1.0 | 2022-11-28 | 9160aff4d\n",
      "CPXPARAM_Read_DataCheck                          1\n",
      "Tried aggregator 1 time.\n",
      "LP Presolve eliminated 266 rows and 206 columns.\n",
      "Aggregator did 239 substitutions.\n",
      "Reduced LP has 127 rows, 211 columns, and 1095 nonzeros.\n",
      "Presolve time = 0.04 sec. (0.91 ticks)\n",
      "Initializing dual steep norms . . .\n",
      "\n",
      "Iteration log . . .\n",
      "Iteration:     1   Dual objective     =           428.816467\n",
      "Iteration:    62   Dual objective     =             1.841437\n",
      "Solution available (status=optimal) type: 1\n",
      "Solution available (status=optimal) type: 1\n",
      "User defined contraint FBC version 2\n",
      "User defined contraint FBC version 2\n",
      "\n",
      "cplx_constructLPfromFBA time: 0.007007122039794922\n",
      "\n",
      "Version identifier: 22.1.1.0 | 2022-11-28 | 9160aff4d\n",
      "CPXPARAM_Read_DataCheck                          1\n",
      "Tried aggregator 1 time.\n",
      "LP Presolve eliminated 16 rows and 16 columns.\n",
      "Aggregator did 24 substitutions.\n",
      "Reduced LP has 32 rows, 55 columns, and 217 nonzeros.\n",
      "Presolve time = 0.02 sec. (0.11 ticks)\n",
      "Initializing dual steep norms . . .\n",
      "\n",
      "Iteration log . . .\n",
      "Iteration:     1   Dual objective     =           898.084408\n",
      "Solution available (status=optimal) type: 1\n",
      "Solution available (status=optimal) type: 1\n",
      "User defined contraint FBC version 2\n",
      "User defined contraint FBC version 2\n",
      "\n",
      "cplx_constructLPfromFBA time: 0.02766108512878418\n",
      "\n",
      "Version identifier: 22.1.1.0 | 2022-11-28 | 9160aff4d\n",
      "CPXPARAM_Read_DataCheck                          1\n",
      "Tried aggregator 1 time.\n",
      "LP Presolve eliminated 258 rows and 206 columns.\n",
      "Aggregator did 239 substitutions.\n",
      "Reduced LP has 135 rows, 211 columns, and 1111 nonzeros.\n",
      "Presolve time = 0.02 sec. (0.91 ticks)\n",
      "Initializing dual steep norms . . .\n",
      "\n",
      "Iteration log . . .\n",
      "Iteration:     1   Dual objective     =           506.033342\n",
      "Iteration:    62   Dual objective     =             2.232172\n",
      "Solution available (status=optimal) type: 1\n",
      "Solution available (status=optimal) type: 1\n",
      "User defined contraint FBC version 2\n",
      "User defined contraint FBC version 2\n",
      "\n",
      "cplx_constructLPfromFBA time: 0.00557708740234375\n",
      "\n",
      "Version identifier: 22.1.1.0 | 2022-11-28 | 9160aff4d\n",
      "CPXPARAM_Read_DataCheck                          1\n",
      "Tried aggregator 1 time.\n",
      "LP Presolve eliminated 16 rows and 16 columns.\n",
      "Aggregator did 24 substitutions.\n",
      "Reduced LP has 32 rows, 55 columns, and 217 nonzeros.\n",
      "Presolve time = 0.03 sec. (0.11 ticks)\n",
      "Initializing dual steep norms . . .\n",
      "\n",
      "Iteration log . . .\n",
      "Iteration:     1   Dual objective     =           978.068395\n",
      "Solution available (status=optimal) type: 1\n",
      "Solution available (status=optimal) type: 1\n",
      "User defined contraint FBC version 2\n",
      "User defined contraint FBC version 2\n",
      "\n",
      "cplx_constructLPfromFBA time: 0.03967428207397461\n",
      "\n",
      "Version identifier: 22.1.1.0 | 2022-11-28 | 9160aff4d\n",
      "CPXPARAM_Read_DataCheck                          1\n",
      "Tried aggregator 1 time.\n",
      "LP Presolve eliminated 258 rows and 206 columns.\n",
      "Aggregator did 239 substitutions.\n",
      "Reduced LP has 135 rows, 211 columns, and 1111 nonzeros.\n",
      "Presolve time = 0.06 sec. (0.91 ticks)\n",
      "Initializing dual steep norms . . .\n",
      "\n",
      "Iteration log . . .\n",
      "Iteration:     1   Dual objective     =           593.237510\n",
      "Iteration:    62   Dual objective     =             2.426988\n",
      "Solution available (status=optimal) type: 1\n",
      "Solution available (status=optimal) type: 1\n",
      "User defined contraint FBC version 2\n",
      "User defined contraint FBC version 2\n",
      "\n",
      "cplx_constructLPfromFBA time: 0.009853124618530273\n",
      "\n",
      "Version identifier: 22.1.1.0 | 2022-11-28 | 9160aff4d\n",
      "CPXPARAM_Read_DataCheck                          1\n",
      "Tried aggregator 1 time.\n",
      "LP Presolve eliminated 16 rows and 16 columns.\n",
      "Aggregator did 24 substitutions.\n",
      "Reduced LP has 32 rows, 55 columns, and 217 nonzeros.\n",
      "Presolve time = 0.02 sec. (0.11 ticks)\n",
      "Initializing dual steep norms . . .\n",
      "\n",
      "Iteration log . . .\n",
      "Iteration:     1   Dual objective     =          1065.159777\n",
      "Solution available (status=optimal) type: 1\n",
      "Solution available (status=optimal) type: 1\n",
      "User defined contraint FBC version 2\n",
      "User defined contraint FBC version 2\n",
      "\n",
      "cplx_constructLPfromFBA time: 0.06706094741821289\n",
      "\n",
      "Version identifier: 22.1.1.0 | 2022-11-28 | 9160aff4d\n",
      "CPXPARAM_Read_DataCheck                          1\n",
      "Tried aggregator 1 time.\n",
      "LP Presolve eliminated 258 rows and 206 columns.\n",
      "Aggregator did 239 substitutions.\n",
      "Reduced LP has 135 rows, 211 columns, and 1111 nonzeros.\n",
      "Presolve time = 0.02 sec. (0.91 ticks)\n",
      "Initializing dual steep norms . . .\n",
      "\n",
      "Iteration log . . .\n",
      "Iteration:     1   Dual objective     =           691.720734\n",
      "Iteration:    62   Dual objective     =             2.742091\n",
      "Solution available (status=optimal) type: 1\n",
      "Solution available (status=optimal) type: 1\n",
      "User defined contraint FBC version 2\n",
      "User defined contraint FBC version 2\n",
      "\n",
      "cplx_constructLPfromFBA time: 0.007739067077636719\n",
      "\n",
      "Version identifier: 22.1.1.0 | 2022-11-28 | 9160aff4d\n",
      "CPXPARAM_Read_DataCheck                          1\n",
      "Tried aggregator 1 time.\n",
      "LP Presolve eliminated 16 rows and 16 columns.\n",
      "Aggregator did 24 substitutions.\n",
      "Reduced LP has 32 rows, 55 columns, and 217 nonzeros.\n",
      "Presolve time = 0.02 sec. (0.11 ticks)\n",
      "Initializing dual steep norms . . .\n",
      "\n",
      "Iteration log . . .\n",
      "Iteration:     1   Dual objective     =          1159.994645\n",
      "Solution available (status=optimal) type: 1\n",
      "Solution available (status=optimal) type: 1\n",
      "User defined contraint FBC version 2\n",
      "User defined contraint FBC version 2\n",
      "\n",
      "cplx_constructLPfromFBA time: 0.13071799278259277\n",
      "\n",
      "Version identifier: 22.1.1.0 | 2022-11-28 | 9160aff4d\n",
      "CPXPARAM_Read_DataCheck                          1\n",
      "Tried aggregator 1 time.\n",
      "LP Presolve eliminated 258 rows and 206 columns.\n",
      "Aggregator did 239 substitutions.\n",
      "Reduced LP has 135 rows, 211 columns, and 1111 nonzeros.\n",
      "Presolve time = 0.02 sec. (0.91 ticks)\n",
      "Initializing dual steep norms . . .\n",
      "\n",
      "Iteration log . . .\n",
      "Iteration:     1   Dual objective     =           802.941858\n",
      "Iteration:    62   Dual objective     =             3.081166\n",
      "Solution available (status=optimal) type: 1\n",
      "Solution available (status=optimal) type: 1\n",
      "User defined contraint FBC version 2\n",
      "User defined contraint FBC version 2\n",
      "\n",
      "cplx_constructLPfromFBA time: 0.0036640167236328125\n",
      "\n",
      "Version identifier: 22.1.1.0 | 2022-11-28 | 9160aff4d\n",
      "CPXPARAM_Read_DataCheck                          1\n",
      "Tried aggregator 1 time.\n",
      "LP Presolve eliminated 16 rows and 16 columns.\n",
      "Aggregator did 24 substitutions.\n",
      "Reduced LP has 32 rows, 55 columns, and 217 nonzeros.\n",
      "Presolve time = 0.01 sec. (0.11 ticks)\n",
      "Initializing dual steep norms . . .\n",
      "\n",
      "Iteration log . . .\n",
      "Iteration:     1   Dual objective     =          1263.266552\n",
      "Solution available (status=optimal) type: 1\n",
      "Solution available (status=optimal) type: 1\n",
      "User defined contraint FBC version 2\n",
      "User defined contraint FBC version 2\n",
      "\n",
      "cplx_constructLPfromFBA time: 0.025096893310546875\n",
      "\n",
      "Version identifier: 22.1.1.0 | 2022-11-28 | 9160aff4d\n",
      "CPXPARAM_Read_DataCheck                          1\n",
      "Tried aggregator 1 time.\n",
      "LP Presolve eliminated 258 rows and 206 columns.\n",
      "Aggregator did 239 substitutions.\n",
      "Reduced LP has 135 rows, 211 columns, and 1111 nonzeros.\n",
      "Presolve time = 0.02 sec. (0.91 ticks)\n",
      "Initializing dual steep norms . . .\n",
      "\n",
      "Iteration log . . .\n",
      "Iteration:     1   Dual objective     =           928.548411\n",
      "Iteration:    62   Dual objective     =             3.489529\n",
      "Solution available (status=optimal) type: 1\n",
      "Solution available (status=optimal) type: 1\n",
      "User defined contraint FBC version 2\n",
      "User defined contraint FBC version 2\n",
      "\n",
      "cplx_constructLPfromFBA time: 0.005997896194458008\n",
      "\n",
      "Version identifier: 22.1.1.0 | 2022-11-28 | 9160aff4d\n",
      "CPXPARAM_Read_DataCheck                          1\n",
      "Tried aggregator 1 time.\n",
      "LP Presolve eliminated 16 rows and 16 columns.\n",
      "Aggregator did 24 substitutions.\n",
      "Reduced LP has 32 rows, 55 columns, and 217 nonzeros.\n",
      "Presolve time = 0.02 sec. (0.11 ticks)\n",
      "Initializing dual steep norms . . .\n",
      "\n",
      "Iteration log . . .\n",
      "Iteration:     1   Dual objective     =          1375.732479\n",
      "Solution available (status=optimal) type: 1\n",
      "Solution available (status=optimal) type: 1\n",
      "User defined contraint FBC version 2\n",
      "User defined contraint FBC version 2\n",
      "\n",
      "cplx_constructLPfromFBA time: 0.02835822105407715\n",
      "\n",
      "Version identifier: 22.1.1.0 | 2022-11-28 | 9160aff4d\n",
      "CPXPARAM_Read_DataCheck                          1\n",
      "Tried aggregator 1 time.\n",
      "LP Presolve eliminated 258 rows and 206 columns.\n",
      "Aggregator did 239 substitutions.\n",
      "Reduced LP has 135 rows, 211 columns, and 1111 nonzeros.\n",
      "Presolve time = 0.01 sec. (0.91 ticks)\n",
      "Initializing dual steep norms . . .\n",
      "\n",
      "Iteration log . . .\n",
      "Iteration:     1   Dual objective     =          1070.401015\n",
      "Iteration:    62   Dual objective     =             3.929751\n",
      "Solution available (status=optimal) type: 1\n",
      "Solution available (status=optimal) type: 1\n",
      "User defined contraint FBC version 2\n",
      "User defined contraint FBC version 2\n",
      "\n",
      "cplx_constructLPfromFBA time: 0.013287782669067383\n",
      "\n",
      "Version identifier: 22.1.1.0 | 2022-11-28 | 9160aff4d\n",
      "CPXPARAM_Read_DataCheck                          1\n",
      "Tried aggregator 1 time.\n",
      "LP Presolve eliminated 16 rows and 16 columns.\n",
      "Aggregator did 24 substitutions.\n",
      "Reduced LP has 32 rows, 55 columns, and 217 nonzeros.\n",
      "Presolve time = 0.01 sec. (0.11 ticks)\n",
      "Initializing dual steep norms . . .\n",
      "\n",
      "Iteration log . . .\n",
      "Iteration:     1   Dual objective     =          1498.217632\n",
      "Solution available (status=optimal) type: 1\n",
      "Solution available (status=optimal) type: 1\n",
      "User defined contraint FBC version 2\n",
      "User defined contraint FBC version 2\n",
      "\n",
      "cplx_constructLPfromFBA time: 0.11959600448608398\n",
      "\n",
      "Version identifier: 22.1.1.0 | 2022-11-28 | 9160aff4d\n",
      "CPXPARAM_Read_DataCheck                          1\n",
      "Tried aggregator 1 time.\n",
      "LP Presolve eliminated 258 rows and 206 columns.\n",
      "Aggregator did 239 substitutions.\n",
      "Reduced LP has 135 rows, 211 columns, and 1111 nonzeros.\n",
      "Presolve time = 0.04 sec. (0.91 ticks)\n",
      "Initializing dual steep norms . . .\n",
      "\n",
      "Iteration log . . .\n",
      "Iteration:     1   Dual objective     =          1230.600949\n",
      "Iteration:    62   Dual objective     =             4.438029\n",
      "Solution available (status=optimal) type: 1\n",
      "Solution available (status=optimal) type: 1\n",
      "User defined contraint FBC version 2\n",
      "User defined contraint FBC version 2\n",
      "\n",
      "cplx_constructLPfromFBA time: 0.004927158355712891\n",
      "\n",
      "Version identifier: 22.1.1.0 | 2022-11-28 | 9160aff4d\n",
      "CPXPARAM_Read_DataCheck                          1\n",
      "Tried aggregator 1 time.\n",
      "LP Presolve eliminated 16 rows and 16 columns.\n",
      "Aggregator did 24 substitutions.\n",
      "Reduced LP has 32 rows, 55 columns, and 217 nonzeros.\n",
      "Presolve time = 0.02 sec. (0.11 ticks)\n",
      "Initializing dual steep norms . . .\n",
      "\n",
      "Iteration log . . .\n",
      "Iteration:     1   Dual objective     =          1631.621914\n",
      "Solution available (status=optimal) type: 1\n",
      "Solution available (status=optimal) type: 1\n",
      "User defined contraint FBC version 2\n",
      "User defined contraint FBC version 2\n",
      "\n",
      "cplx_constructLPfromFBA time: 0.03514909744262695\n",
      "\n",
      "Version identifier: 22.1.1.0 | 2022-11-28 | 9160aff4d\n",
      "CPXPARAM_Read_DataCheck                          1\n",
      "Tried aggregator 1 time.\n",
      "LP Presolve eliminated 258 rows and 206 columns.\n",
      "Aggregator did 239 substitutions.\n",
      "Reduced LP has 135 rows, 211 columns, and 1111 nonzeros.\n",
      "Presolve time = 0.03 sec. (0.91 ticks)\n",
      "Initializing dual steep norms . . .\n",
      "\n",
      "Iteration log . . .\n",
      "Iteration:     1   Dual objective     =          1411.521271\n",
      "Iteration:    62   Dual objective     =             5.012047\n",
      "Solution available (status=optimal) type: 1\n",
      "Solution available (status=optimal) type: 1\n",
      "User defined contraint FBC version 2\n",
      "User defined contraint FBC version 2\n",
      "\n",
      "cplx_constructLPfromFBA time: 0.006124019622802734\n",
      "\n",
      "Version identifier: 22.1.1.0 | 2022-11-28 | 9160aff4d\n",
      "CPXPARAM_Read_DataCheck                          1\n",
      "Tried aggregator 1 time.\n",
      "LP Presolve eliminated 16 rows and 16 columns.\n",
      "Aggregator did 25 substitutions.\n",
      "Reduced LP has 31 rows, 54 columns, and 215 nonzeros.\n",
      "Presolve time = 0.02 sec. (0.11 ticks)\n",
      "Initializing dual steep norms . . .\n",
      "\n",
      "Iteration log . . .\n",
      "Iteration:     1   Dual objective     =          1776.927819\n",
      "Solution available (status=optimal) type: 1\n",
      "Solution available (status=optimal) type: 1\n",
      "User defined contraint FBC version 2\n",
      "User defined contraint FBC version 2\n",
      "\n",
      "cplx_constructLPfromFBA time: 0.04567098617553711\n",
      "\n",
      "Version identifier: 22.1.1.0 | 2022-11-28 | 9160aff4d\n",
      "CPXPARAM_Read_DataCheck                          1\n",
      "Tried aggregator 1 time.\n",
      "LP Presolve eliminated 258 rows and 206 columns.\n",
      "Aggregator did 239 substitutions.\n",
      "Reduced LP has 135 rows, 211 columns, and 1111 nonzeros.\n",
      "Presolve time = 0.01 sec. (0.91 ticks)\n",
      "Initializing dual steep norms . . .\n",
      "\n",
      "Iteration log . . .\n",
      "Iteration:     1   Dual objective     =          1615.841971\n",
      "Iteration:    62   Dual objective     =             5.660309\n",
      "Solution available (status=optimal) type: 1\n",
      "Solution available (status=optimal) type: 1\n",
      "User defined contraint FBC version 2\n",
      "User defined contraint FBC version 2\n",
      "\n",
      "cplx_constructLPfromFBA time: 0.01103067398071289\n",
      "\n",
      "Version identifier: 22.1.1.0 | 2022-11-28 | 9160aff4d\n",
      "CPXPARAM_Read_DataCheck                          1\n",
      "Tried aggregator 1 time.\n",
      "LP Presolve eliminated 16 rows and 16 columns.\n",
      "Aggregator did 25 substitutions.\n",
      "Reduced LP has 31 rows, 54 columns, and 215 nonzeros.\n",
      "Presolve time = 0.02 sec. (0.11 ticks)\n",
      "Initializing dual steep norms . . .\n",
      "\n",
      "Iteration log . . .\n",
      "Iteration:     1   Dual objective     =          1935.206955\n",
      "Solution available (status=optimal) type: 1\n",
      "Solution available (status=optimal) type: 1\n",
      "User defined contraint FBC version 2\n",
      "User defined contraint FBC version 2\n",
      "\n",
      "cplx_constructLPfromFBA time: 0.0269010066986084\n",
      "\n",
      "Version identifier: 22.1.1.0 | 2022-11-28 | 9160aff4d\n",
      "CPXPARAM_Read_DataCheck                          1\n",
      "Tried aggregator 1 time.\n",
      "LP Presolve eliminated 258 rows and 206 columns.\n",
      "Aggregator did 239 substitutions.\n",
      "Reduced LP has 135 rows, 211 columns, and 1111 nonzeros.\n",
      "Presolve time = 0.02 sec. (0.91 ticks)\n",
      "Initializing dual steep norms . . .\n",
      "\n",
      "Iteration log . . .\n",
      "Iteration:     1   Dual objective     =          1846.589675\n",
      "Iteration:    62   Dual objective     =             7.603546\n",
      "Solution available (status=optimal) type: 1\n",
      "Solution available (status=optimal) type: 1\n",
      "User defined contraint FBC version 2\n",
      "User defined contraint FBC version 2\n",
      "\n",
      "cplx_constructLPfromFBA time: 0.00941324234008789\n",
      "\n",
      "Version identifier: 22.1.1.0 | 2022-11-28 | 9160aff4d\n",
      "CPXPARAM_Read_DataCheck                          1\n",
      "Tried aggregator 1 time.\n",
      "LP Presolve eliminated 16 rows and 16 columns.\n",
      "Aggregator did 25 substitutions.\n",
      "Reduced LP has 31 rows, 54 columns, and 215 nonzeros.\n",
      "Presolve time = 0.02 sec. (0.11 ticks)\n",
      "Initializing dual steep norms . . .\n",
      "\n",
      "Iteration log . . .\n",
      "Iteration:     1   Dual objective     =          2107.628070\n",
      "Solution available (status=optimal) type: 1\n",
      "Solution available (status=optimal) type: 1\n",
      "User defined contraint FBC version 2\n",
      "User defined contraint FBC version 2\n",
      "\n",
      "cplx_constructLPfromFBA time: 0.030586719512939453\n",
      "\n",
      "Version identifier: 22.1.1.0 | 2022-11-28 | 9160aff4d\n",
      "CPXPARAM_Read_DataCheck                          1\n",
      "Tried aggregator 1 time.\n",
      "LP Presolve eliminated 258 rows and 206 columns.\n",
      "Aggregator did 239 substitutions.\n",
      "Reduced LP has 135 rows, 211 columns, and 1111 nonzeros.\n",
      "Presolve time = 0.02 sec. (0.91 ticks)\n",
      "Initializing dual steep norms . . .\n",
      "\n",
      "Iteration log . . .\n",
      "Iteration:     1   Dual objective     =          2107.182470\n",
      "Iteration:    62   Dual objective     =             8.610751\n",
      "Solution available (status=optimal) type: 1\n",
      "Solution available (status=optimal) type: 1\n",
      "User defined contraint FBC version 2\n",
      "User defined contraint FBC version 2\n",
      "\n",
      "cplx_constructLPfromFBA time: 0.003738880157470703\n",
      "\n",
      "Version identifier: 22.1.1.0 | 2022-11-28 | 9160aff4d\n",
      "CPXPARAM_Read_DataCheck                          1\n",
      "Tried aggregator 1 time.\n",
      "LP Presolve eliminated 16 rows and 16 columns.\n",
      "Aggregator did 25 substitutions.\n",
      "Reduced LP has 31 rows, 54 columns, and 215 nonzeros.\n",
      "Presolve time = 0.03 sec. (0.11 ticks)\n",
      "Initializing dual steep norms . . .\n",
      "\n",
      "Iteration log . . .\n",
      "Iteration:     1   Dual objective     =          2295.467613\n",
      "Solution available (status=optimal) type: 1\n",
      "Solution available (status=optimal) type: 1\n",
      "User defined contraint FBC version 2\n",
      "User defined contraint FBC version 2\n",
      "\n",
      "cplx_constructLPfromFBA time: 0.029588937759399414\n",
      "\n",
      "Version identifier: 22.1.1.0 | 2022-11-28 | 9160aff4d\n",
      "CPXPARAM_Read_DataCheck                          1\n",
      "Tried aggregator 1 time.\n",
      "LP Presolve eliminated 254 rows and 196 columns.\n",
      "Aggregator did 242 substitutions.\n",
      "Reduced LP has 136 rows, 218 columns, and 1121 nonzeros.\n",
      "Presolve time = 0.03 sec. (0.92 ticks)\n",
      "Initializing dual steep norms . . .\n",
      "\n",
      "Iteration log . . .\n",
      "Iteration:     1   Dual objective     =          2401.480546\n",
      "Iteration:    62   Dual objective     =             4.356295\n",
      "Solution available (status=optimal) type: 1\n",
      "Solution available (status=optimal) type: 1\n",
      "User defined contraint FBC version 2\n",
      "User defined contraint FBC version 2\n",
      "\n",
      "cplx_constructLPfromFBA time: 0.007715940475463867\n",
      "\n",
      "Version identifier: 22.1.1.0 | 2022-11-28 | 9160aff4d\n",
      "CPXPARAM_Read_DataCheck                          1\n",
      "Tried aggregator 1 time.\n",
      "LP Presolve eliminated 16 rows and 16 columns.\n",
      "Aggregator did 25 substitutions.\n",
      "Reduced LP has 31 rows, 54 columns, and 215 nonzeros.\n",
      "Presolve time = 0.02 sec. (0.11 ticks)\n",
      "Initializing dual steep norms . . .\n",
      "\n",
      "Iteration log . . .\n",
      "Iteration:     1   Dual objective     =          2498.222616\n",
      "Solution available (status=optimal) type: 1\n",
      "Solution available (status=optimal) type: 1\n",
      "User defined contraint FBC version 2\n",
      "User defined contraint FBC version 2\n",
      "\n",
      "cplx_constructLPfromFBA time: 0.06567716598510742\n",
      "\n",
      "Version identifier: 22.1.1.0 | 2022-11-28 | 9160aff4d\n",
      "CPXPARAM_Read_DataCheck                          1\n",
      "Bound infeasibility column 'R_EX_lcts_e'.\n",
      "Presolve time = 0.00 sec. (0.09 ticks)\n"
     ]
    },
    {
     "name": "stderr",
     "output_type": "stream",
     "text": [
      "CPLEX Error  1217: No solution exists.\n"
     ]
    },
    {
     "name": "stdout",
     "output_type": "stream",
     "text": [
      "CPLEX Error  1217: No solution exists.\n",
      "WARNING: No solution to get\n",
      "No solution available (status=infeasible) type: 0\n",
      "No solution available (status=infeasible) type: 0\n",
      "model: iRZ476 had an infeasible solution\n"
     ]
    }
   ],
   "source": [
    "#Build DynamicParallelFBA model\n",
    "parallel_fba.simulate(0.1)"
   ]
  },
  {
   "cell_type": "markdown",
   "id": "7a895b8b",
   "metadata": {},
   "source": [
    "The ``simulate`` runs the dynamic analysis until no organism can grow or one of the solutions is infeasible. Again we store the intermediate results for biomasses, metabolites and fluxes in the model and can retrieve them once the simulation is done:"
   ]
  },
  {
   "cell_type": "code",
   "execution_count": 56,
   "id": "ae4a9829",
   "metadata": {},
   "outputs": [],
   "source": [
    "biomasses = parallel_fba.get_biomasses()\n",
    "metabolites = parallel_fba.get_metabolites()\n",
    "T = parallel_fba.get_time_points()\n",
    "fluxes = parallel_fba.fluxes"
   ]
  },
  {
   "cell_type": "markdown",
   "id": "168667b1",
   "metadata": {},
   "source": [
    "We can visualize the results easily:"
   ]
  },
  {
   "cell_type": "code",
   "execution_count": 58,
   "id": "69106c7c",
   "metadata": {},
   "outputs": [
    {
     "data": {
      "image/png": "[encoded data removed]",
      "text/plain": [
       "<Figure size 640x480 with 1 Axes>"
      ]
     },
     "metadata": {},
     "output_type": "display_data"
    }
   ],
   "source": [
    "plt.plot(T, metabolites[\"M_glc__D_e\"], color=\"blue\", label=\"[Glucose]\")\n",
    "plt.plot(T, metabolites[\"M_lcts_e\"], color=\"orange\", label=\"[Lactose]\")\n",
    "plt.xlabel(\"Time\")\n",
    "plt.ylabel(\"Concentration\")\n",
    "plt.legend()\n",
    "plt.show()\n",
    "\n"
   ]
  },
  {
   "cell_type": "markdown",
   "id": "d7bb266f",
   "metadata": {},
   "source": [
    "Alternatively, we can plot the biomasses over time:"
   ]
  },
  {
   "cell_type": "code",
   "execution_count": 59,
   "id": "cd56c8da",
   "metadata": {},
   "outputs": [
    {
     "data": {
      "image/png": "[encoded data removed]",
      "text/plain": [
       "<Figure size 640x480 with 1 Axes>"
      ]
     },
     "metadata": {},
     "output_type": "display_data"
    }
   ],
   "source": [
    "#Plot biomasses\n",
    "plt.plot(T, biomasses[model1_cbm.getId()], color=\"orange\", label=\"ecoli\")\n",
    "plt.plot(T, biomasses[model2_cbm.getId()], color=\"blue\", label=\"strep\")\n",
    "plt.xlabel(\"Time\")\n",
    "plt.ylabel(\"Biomass\")\n",
    "plt.legend()\n",
    "plt.show()\n"
   ]
  },
  {
   "cell_type": "markdown",
   "id": "af7fdc30",
   "metadata": {},
   "source": [
    "### Simulating two different species (*E. coli* and *Strept. thermophilus*) competing for the same substrates"
   ]
  },
  {
   "cell_type": "code",
   "execution_count": 11,
   "id": "aff61ce7",
   "metadata": {},
   "outputs": [
    {
     "name": "stdout",
     "output_type": "stream",
     "text": [
      "Set parameter Username\n",
      "Academic license - for non-commercial use only - expires 2026-04-06\n"
     ]
    }
   ],
   "source": [
    "import matplotlib.pyplot as plt\n",
    "import cobra\n",
    "from cobra.io import load_model,read_sbml_model\n",
    "\n",
    "\n",
    "model1 = read_sbml_model(\"e_coli_core_BIGG.xml\")\n",
    "model2 = read_sbml_model(\"Strep_therm_aem.00780-22-s0001.xml\")"
   ]
  },
  {
   "cell_type": "markdown",
   "id": "17f7bf6c",
   "metadata": {},
   "source": [
    "### MODEL 1: *E. coli* "
   ]
  },
  {
   "cell_type": "code",
   "execution_count": 12,
   "id": "d328b8b6",
   "metadata": {},
   "outputs": [
    {
     "data": {
      "text/plain": [
       "[<Reaction EX_ac_e at 0x1419499f0>,\n",
       " <Reaction EX_acald_e at 0x1413dbf40>,\n",
       " <Reaction EX_akg_e at 0x1413db4f0>,\n",
       " <Reaction EX_co2_e at 0x1413db490>,\n",
       " <Reaction EX_etoh_e at 0x1413da3b0>,\n",
       " <Reaction EX_for_e at 0x14194a740>,\n",
       " <Reaction EX_fru_e at 0x14194a860>,\n",
       " <Reaction EX_fum_e at 0x14194a980>,\n",
       " <Reaction EX_glc__D_e at 0x14194aaa0>,\n",
       " <Reaction EX_gln__L_e at 0x14194abc0>,\n",
       " <Reaction EX_glu__L_e at 0x14194ace0>,\n",
       " <Reaction EX_h_e at 0x14194ae00>,\n",
       " <Reaction EX_h2o_e at 0x14194af20>,\n",
       " <Reaction EX_lac__D_e at 0x14194b040>,\n",
       " <Reaction EX_mal__L_e at 0x14194b160>,\n",
       " <Reaction EX_nh4_e at 0x14194b280>,\n",
       " <Reaction EX_o2_e at 0x14194b3a0>,\n",
       " <Reaction EX_pi_e at 0x14194b4c0>,\n",
       " <Reaction EX_pyr_e at 0x14194b5e0>,\n",
       " <Reaction EX_succ_e at 0x14194b700>]"
      ]
     },
     "execution_count": 12,
     "metadata": {},
     "output_type": "execute_result"
    }
   ],
   "source": [
    "model1.exchanges"
   ]
  },
  {
   "cell_type": "code",
   "execution_count": 13,
   "id": "ffdb3567",
   "metadata": {},
   "outputs": [
    {
     "data": {
      "text/plain": [
       "[]"
      ]
     },
     "execution_count": 13,
     "metadata": {},
     "output_type": "execute_result"
    }
   ],
   "source": [
    "model1.demands"
   ]
  },
  {
   "cell_type": "code",
   "execution_count": 14,
   "id": "7744274d",
   "metadata": {},
   "outputs": [
    {
     "data": {
      "text/plain": [
       "[]"
      ]
     },
     "execution_count": 14,
     "metadata": {},
     "output_type": "execute_result"
    }
   ],
   "source": [
    "model1.sinks"
   ]
  },
  {
   "cell_type": "code",
   "execution_count": 15,
   "id": "6d3651e0",
   "metadata": {},
   "outputs": [
    {
     "data": {
      "text/plain": [
       "[<Reaction EX_ac_e at 0x1419499f0>,\n",
       " <Reaction EX_acald_e at 0x1413dbf40>,\n",
       " <Reaction EX_akg_e at 0x1413db4f0>,\n",
       " <Reaction EX_co2_e at 0x1413db490>,\n",
       " <Reaction EX_etoh_e at 0x1413da3b0>,\n",
       " <Reaction EX_for_e at 0x14194a740>,\n",
       " <Reaction EX_fru_e at 0x14194a860>,\n",
       " <Reaction EX_fum_e at 0x14194a980>,\n",
       " <Reaction EX_glc__D_e at 0x14194aaa0>,\n",
       " <Reaction EX_gln__L_e at 0x14194abc0>,\n",
       " <Reaction EX_glu__L_e at 0x14194ace0>,\n",
       " <Reaction EX_h_e at 0x14194ae00>,\n",
       " <Reaction EX_h2o_e at 0x14194af20>,\n",
       " <Reaction EX_lac__D_e at 0x14194b040>,\n",
       " <Reaction EX_mal__L_e at 0x14194b160>,\n",
       " <Reaction EX_nh4_e at 0x14194b280>,\n",
       " <Reaction EX_o2_e at 0x14194b3a0>,\n",
       " <Reaction EX_pi_e at 0x14194b4c0>,\n",
       " <Reaction EX_pyr_e at 0x14194b5e0>,\n",
       " <Reaction EX_succ_e at 0x14194b700>]"
      ]
     },
     "execution_count": 15,
     "metadata": {},
     "output_type": "execute_result"
    }
   ],
   "source": [
    "model1.boundary"
   ]
  },
  {
   "cell_type": "code",
   "execution_count": 16,
   "id": "f0226bcc",
   "metadata": {},
   "outputs": [
    {
     "data": {
      "text/plain": [
       "{'EX_co2_e': 1000.0,\n",
       " 'EX_glc__D_e': 10.0,\n",
       " 'EX_h_e': 1000.0,\n",
       " 'EX_h2o_e': 1000.0,\n",
       " 'EX_nh4_e': 1000.0,\n",
       " 'EX_o2_e': 1000.0,\n",
       " 'EX_pi_e': 1000.0}"
      ]
     },
     "execution_count": 16,
     "metadata": {},
     "output_type": "execute_result"
    }
   ],
   "source": [
    "model1.medium"
   ]
  },
  {
   "cell_type": "code",
   "execution_count": 17,
   "id": "24cb9b00",
   "metadata": {},
   "outputs": [
    {
     "data": {
      "text/plain": [
       "EX_glc__D_e    10.000000\n",
       "EX_nh4_e        4.765319\n",
       "EX_o2_e        21.799493\n",
       "EX_pi_e         3.214895\n",
       "dtype: float64"
      ]
     },
     "execution_count": 17,
     "metadata": {},
     "output_type": "execute_result"
    }
   ],
   "source": [
    "from cobra.medium import minimal_medium\n",
    "max_growth_1 = model1.slim_optimize()\n",
    "minimal_medium(model1, max_growth_1)"
   ]
  },
  {
   "cell_type": "code",
   "execution_count": 18,
   "id": "676c8613",
   "metadata": {},
   "outputs": [
    {
     "data": {
      "text/plain": [
       "EX_glc__D_e    10.00000\n",
       "EX_nh4_e        0.54528\n",
       "EX_pi_e         0.36787\n",
       "dtype: float64"
      ]
     },
     "execution_count": 18,
     "metadata": {},
     "output_type": "execute_result"
    }
   ],
   "source": [
    "minimal_medium(model1, 0.1, minimize_components=8)"
   ]
  },
  {
   "cell_type": "markdown",
   "id": "903c52db",
   "metadata": {},
   "source": [
    "### MODEL 2: *Strept. thermophilus*"
   ]
  },
  {
   "cell_type": "code",
   "execution_count": 19,
   "id": "dc465da5",
   "metadata": {},
   "outputs": [
    {
     "data": {
      "text/plain": [
       "[<Reaction EX_ac_LPAREN_e_RPAREN_ at 0x141bdaec0>,\n",
       " <Reaction EX_ala_DASH_L_LPAREN_e_RPAREN_ at 0x141bdafb0>,\n",
       " <Reaction EX_arg_DASH_L_LPAREN_e_RPAREN_ at 0x141bdafe0>,\n",
       " <Reaction EX_asp_DASH_L_LPAREN_e_RPAREN_ at 0x141bdb0a0>,\n",
       " <Reaction EX_caspep_LPAREN_e_RPAREN_ at 0x141bdb160>,\n",
       " <Reaction EX_cit_LPAREN_e_RPAREN_ at 0x141bdb220>,\n",
       " <Reaction EX_co2_LPAREN_e_RPAREN_ at 0x141bdb2e0>,\n",
       " <Reaction EX_cys_DASH_L_LPAREN_e_RPAREN_ at 0x141bdb3a0>,\n",
       " <Reaction EX_dha_LPAREN_e_RPAREN_ at 0x141bdb460>,\n",
       " <Reaction EX_diact_LPAREN_e_RPAREN_ at 0x141bdb520>,\n",
       " <Reaction EX_etoh_LPAREN_e_RPAREN_ at 0x141bdb5e0>,\n",
       " <Reaction EX_fol_LPAREN_e_RPAREN_ at 0x141bdb6a0>,\n",
       " <Reaction EX_for_LPAREN_e_RPAREN_ at 0x141bdb760>,\n",
       " <Reaction EX_gal_LPAREN_e_RPAREN_ at 0x141bdb820>,\n",
       " <Reaction EX_gcald_LPAREN_e_RPAREN_ at 0x141bdb8e0>,\n",
       " <Reaction EX_glc_DASH_D_LPAREN_e_RPAREN_ at 0x141bdb9a0>,\n",
       " <Reaction EX_gln_DASH_L_LPAREN_e_RPAREN_ at 0x141bdba60>,\n",
       " <Reaction EX_glu_DASH_L_LPAREN_e_RPAREN_ at 0x141bdbb20>,\n",
       " <Reaction EX_gly_LPAREN_e_RPAREN_ at 0x141bdbbe0>,\n",
       " <Reaction EX_glyc_LPAREN_e_RPAREN_ at 0x141bdbca0>,\n",
       " <Reaction EX_h_LPAREN_e_RPAREN_ at 0x141bdbd60>,\n",
       " <Reaction EX_h2o_LPAREN_e_RPAREN_ at 0x141bdbe20>,\n",
       " <Reaction EX_his_DASH_L_LPAREN_e_RPAREN_ at 0x141bdbee0>,\n",
       " <Reaction EX_ile_DASH_L_LPAREN_e_RPAREN_ at 0x141bdbfa0>,\n",
       " <Reaction EX_lac_DASH_L_LPAREN_e_RPAREN_ at 0x141bdbfd0>,\n",
       " <Reaction EX_lcts_LPAREN_e_RPAREN_ at 0x141bd8ca0>,\n",
       " <Reaction EX_leu_DASH_L_LPAREN_e_RPAREN_ at 0x141bd9060>,\n",
       " <Reaction EX_lys_DASH_L_LPAREN_e_RPAREN_ at 0x141bdaef0>,\n",
       " <Reaction EX_met_DASH_L_LPAREN_e_RPAREN_ at 0x141c043a0>,\n",
       " <Reaction EX_mpept_LPAREN_e_RPAREN_ at 0x141c04460>,\n",
       " <Reaction EX_nac_LPAREN_e_RPAREN_ at 0x141c04520>,\n",
       " <Reaction EX_o2_LPAREN_e_RPAREN_ at 0x141c045e0>,\n",
       " <Reaction EX_oxa_LPAREN_e_RPAREN_ at 0x141c046a0>,\n",
       " <Reaction EX_phe_DASH_L_LPAREN_e_RPAREN_ at 0x141c04760>,\n",
       " <Reaction EX_pi_LPAREN_e_RPAREN_ at 0x141c04820>,\n",
       " <Reaction EX_pnto_DASH_R_LPAREN_e_RPAREN_ at 0x141c048e0>,\n",
       " <Reaction EX_pro_DASH_L_LPAREN_e_RPAREN_ at 0x141c049a0>,\n",
       " <Reaction EX_pydam_LPAREN_e_RPAREN_ at 0x141c04a60>,\n",
       " <Reaction EX_ribflv_LPAREN_e_RPAREN_ at 0x141c04b20>,\n",
       " <Reaction EX_ser_DASH_L_LPAREN_e_RPAREN_ at 0x141c04be0>,\n",
       " <Reaction EX_succ_LPAREN_e_RPAREN_ at 0x141c04ca0>,\n",
       " <Reaction EX_thm_LPAREN_e_RPAREN_ at 0x141c04d60>,\n",
       " <Reaction EX_thr_DASH_L_LPAREN_e_RPAREN_ at 0x141c04e20>,\n",
       " <Reaction EX_trp_DASH_L_LPAREN_e_RPAREN_ at 0x141c04ee0>,\n",
       " <Reaction EX_tyr_DASH_L_LPAREN_e_RPAREN_ at 0x141c04fa0>,\n",
       " <Reaction EX_urea_LPAREN_e_RPAREN_ at 0x141c05060>,\n",
       " <Reaction EX_val_DASH_L_LPAREN_e_RPAREN_ at 0x141c05120>,\n",
       " <Reaction EX_pydx_LPAREN_e_RPAREN_ at 0x141c051e0>,\n",
       " <Reaction EX_pydxn_LPAREN_e_RPAREN_ at 0x141c052a0>,\n",
       " <Reaction EX_btn_LPAREN_e_RPAREN_ at 0x141c05360>,\n",
       " <Reaction EX_cbl1_LPAREN_e_RPAREN_ at 0x141c05420>,\n",
       " <Reaction EX_h2o2_LPAREN_e_RPAREN_ at 0x141c054e0>,\n",
       " <Reaction EX_ala_DASH_D_LPAREN_e_RPAREN_ at 0x141c055a0>,\n",
       " <Reaction EX_fe2_LPAREN_e_RPAREN_ at 0x141c05660>,\n",
       " <Reaction EX_fe3_LPAREN_e_RPAREN_ at 0x141c05720>,\n",
       " <Reaction EX_gua_LPAREN_e_RPAREN_ at 0x141c057e0>,\n",
       " <Reaction EX_hxan_LPAREN_e_RPAREN_ at 0x141c058a0>,\n",
       " <Reaction EX_ser_DASH_D_LPAREN_e_RPAREN_ at 0x141c05960>,\n",
       " <Reaction EX_ca2_LPAREN_e_RPAREN_ at 0x141c05a20>,\n",
       " <Reaction EX_cd2_LPAREN_e_RPAREN_ at 0x141c05ae0>,\n",
       " <Reaction EX_zn2_LPAREN_e_RPAREN_ at 0x141c05ba0>,\n",
       " <Reaction EX_cobalt2_LPAREN_e_RPAREN_ at 0x141c05c60>,\n",
       " <Reaction EX_cu2_LPAREN_e_RPAREN_ at 0x141c05d20>,\n",
       " <Reaction EX_ni2_LPAREN_e_RPAREN_ at 0x141c05de0>,\n",
       " <Reaction EX_mg2_LPAREN_e_RPAREN_ at 0x141c05ea0>,\n",
       " <Reaction EX_mn2_LPAREN_e_RPAREN_ at 0x141c05f60>,\n",
       " <Reaction EX_na1_LPAREN_e_RPAREN_ at 0x141c06020>,\n",
       " <Reaction EX_cl_LPAREN_e_RPAREN_ at 0x141c060e0>,\n",
       " <Reaction EX_hom_DASH_L_LPAREN_e_RPAREN_ at 0x141c061a0>,\n",
       " <Reaction EX_fum_LPAREN_e_RPAREN_ at 0x141c55480>,\n",
       " <Reaction EX_acald_LPAREN_e_RPAREN_ at 0x141c55780>,\n",
       " <Reaction EX_pyr_LPAREN_e_RPAREN_ at 0x141ca5450>,\n",
       " <Reaction EX_phpyr_LPAREN_e_RPAREN_ at 0x141ca5540>,\n",
       " <Reaction EX_actn_DASH_R_LPAREN_e_RPAREN_ at 0x141ca5750>,\n",
       " <Reaction EX_orn_DASH_L_LPAREN_e_RPAREN_ at 0x141ca5960>,\n",
       " <Reaction EX_ura_LPAREN_e_RPAREN_ at 0x141ca6020>,\n",
       " <Reaction EX_NH4_LPAREN_e_RPAREN_ at 0x141ca61d0>,\n",
       " <Reaction EX_asn_DASH_L_LPAREN_e_RPAREN_ at 0x141ca6bc0>,\n",
       " <Reaction EX_sucr_LPAREN_e_RPAREN_ at 0x141ca6d10>,\n",
       " <Reaction EX_caspepm_LPAREN_e_RPAREN_ at 0x141ca7040>]"
      ]
     },
     "execution_count": 19,
     "metadata": {},
     "output_type": "execute_result"
    }
   ],
   "source": [
    "model2.exchanges"
   ]
  },
  {
   "cell_type": "code",
   "execution_count": 20,
   "id": "43387460",
   "metadata": {},
   "outputs": [
    {
     "data": {
      "text/plain": [
       "[]"
      ]
     },
     "execution_count": 20,
     "metadata": {},
     "output_type": "execute_result"
    }
   ],
   "source": [
    "model2.demands"
   ]
  },
  {
   "cell_type": "code",
   "execution_count": 21,
   "id": "2898ae78",
   "metadata": {},
   "outputs": [
    {
     "data": {
      "text/plain": [
       "[]"
      ]
     },
     "execution_count": 21,
     "metadata": {},
     "output_type": "execute_result"
    }
   ],
   "source": [
    "model2.sinks"
   ]
  },
  {
   "cell_type": "code",
   "execution_count": 22,
   "id": "257659b5",
   "metadata": {},
   "outputs": [
    {
     "data": {
      "text/plain": [
       "[<Reaction EX_ac_LPAREN_e_RPAREN_ at 0x141bdaec0>,\n",
       " <Reaction EX_ala_DASH_L_LPAREN_e_RPAREN_ at 0x141bdafb0>,\n",
       " <Reaction EX_arg_DASH_L_LPAREN_e_RPAREN_ at 0x141bdafe0>,\n",
       " <Reaction EX_asp_DASH_L_LPAREN_e_RPAREN_ at 0x141bdb0a0>,\n",
       " <Reaction EX_caspep_LPAREN_e_RPAREN_ at 0x141bdb160>,\n",
       " <Reaction EX_cit_LPAREN_e_RPAREN_ at 0x141bdb220>,\n",
       " <Reaction EX_co2_LPAREN_e_RPAREN_ at 0x141bdb2e0>,\n",
       " <Reaction EX_cys_DASH_L_LPAREN_e_RPAREN_ at 0x141bdb3a0>,\n",
       " <Reaction EX_dha_LPAREN_e_RPAREN_ at 0x141bdb460>,\n",
       " <Reaction EX_diact_LPAREN_e_RPAREN_ at 0x141bdb520>,\n",
       " <Reaction EX_etoh_LPAREN_e_RPAREN_ at 0x141bdb5e0>,\n",
       " <Reaction EX_fol_LPAREN_e_RPAREN_ at 0x141bdb6a0>,\n",
       " <Reaction EX_for_LPAREN_e_RPAREN_ at 0x141bdb760>,\n",
       " <Reaction EX_gal_LPAREN_e_RPAREN_ at 0x141bdb820>,\n",
       " <Reaction EX_gcald_LPAREN_e_RPAREN_ at 0x141bdb8e0>,\n",
       " <Reaction EX_glc_DASH_D_LPAREN_e_RPAREN_ at 0x141bdb9a0>,\n",
       " <Reaction EX_gln_DASH_L_LPAREN_e_RPAREN_ at 0x141bdba60>,\n",
       " <Reaction EX_glu_DASH_L_LPAREN_e_RPAREN_ at 0x141bdbb20>,\n",
       " <Reaction EX_gly_LPAREN_e_RPAREN_ at 0x141bdbbe0>,\n",
       " <Reaction EX_glyc_LPAREN_e_RPAREN_ at 0x141bdbca0>,\n",
       " <Reaction EX_h_LPAREN_e_RPAREN_ at 0x141bdbd60>,\n",
       " <Reaction EX_h2o_LPAREN_e_RPAREN_ at 0x141bdbe20>,\n",
       " <Reaction EX_his_DASH_L_LPAREN_e_RPAREN_ at 0x141bdbee0>,\n",
       " <Reaction EX_ile_DASH_L_LPAREN_e_RPAREN_ at 0x141bdbfa0>,\n",
       " <Reaction EX_lac_DASH_L_LPAREN_e_RPAREN_ at 0x141bdbfd0>,\n",
       " <Reaction EX_lcts_LPAREN_e_RPAREN_ at 0x141bd8ca0>,\n",
       " <Reaction EX_leu_DASH_L_LPAREN_e_RPAREN_ at 0x141bd9060>,\n",
       " <Reaction EX_lys_DASH_L_LPAREN_e_RPAREN_ at 0x141bdaef0>,\n",
       " <Reaction EX_met_DASH_L_LPAREN_e_RPAREN_ at 0x141c043a0>,\n",
       " <Reaction EX_mpept_LPAREN_e_RPAREN_ at 0x141c04460>,\n",
       " <Reaction EX_nac_LPAREN_e_RPAREN_ at 0x141c04520>,\n",
       " <Reaction EX_o2_LPAREN_e_RPAREN_ at 0x141c045e0>,\n",
       " <Reaction EX_oxa_LPAREN_e_RPAREN_ at 0x141c046a0>,\n",
       " <Reaction EX_phe_DASH_L_LPAREN_e_RPAREN_ at 0x141c04760>,\n",
       " <Reaction EX_pi_LPAREN_e_RPAREN_ at 0x141c04820>,\n",
       " <Reaction EX_pnto_DASH_R_LPAREN_e_RPAREN_ at 0x141c048e0>,\n",
       " <Reaction EX_pro_DASH_L_LPAREN_e_RPAREN_ at 0x141c049a0>,\n",
       " <Reaction EX_pydam_LPAREN_e_RPAREN_ at 0x141c04a60>,\n",
       " <Reaction EX_ribflv_LPAREN_e_RPAREN_ at 0x141c04b20>,\n",
       " <Reaction EX_ser_DASH_L_LPAREN_e_RPAREN_ at 0x141c04be0>,\n",
       " <Reaction EX_succ_LPAREN_e_RPAREN_ at 0x141c04ca0>,\n",
       " <Reaction EX_thm_LPAREN_e_RPAREN_ at 0x141c04d60>,\n",
       " <Reaction EX_thr_DASH_L_LPAREN_e_RPAREN_ at 0x141c04e20>,\n",
       " <Reaction EX_trp_DASH_L_LPAREN_e_RPAREN_ at 0x141c04ee0>,\n",
       " <Reaction EX_tyr_DASH_L_LPAREN_e_RPAREN_ at 0x141c04fa0>,\n",
       " <Reaction EX_urea_LPAREN_e_RPAREN_ at 0x141c05060>,\n",
       " <Reaction EX_val_DASH_L_LPAREN_e_RPAREN_ at 0x141c05120>,\n",
       " <Reaction EX_pydx_LPAREN_e_RPAREN_ at 0x141c051e0>,\n",
       " <Reaction EX_pydxn_LPAREN_e_RPAREN_ at 0x141c052a0>,\n",
       " <Reaction EX_btn_LPAREN_e_RPAREN_ at 0x141c05360>,\n",
       " <Reaction EX_cbl1_LPAREN_e_RPAREN_ at 0x141c05420>,\n",
       " <Reaction EX_h2o2_LPAREN_e_RPAREN_ at 0x141c054e0>,\n",
       " <Reaction EX_ala_DASH_D_LPAREN_e_RPAREN_ at 0x141c055a0>,\n",
       " <Reaction EX_fe2_LPAREN_e_RPAREN_ at 0x141c05660>,\n",
       " <Reaction EX_fe3_LPAREN_e_RPAREN_ at 0x141c05720>,\n",
       " <Reaction EX_gua_LPAREN_e_RPAREN_ at 0x141c057e0>,\n",
       " <Reaction EX_hxan_LPAREN_e_RPAREN_ at 0x141c058a0>,\n",
       " <Reaction EX_ser_DASH_D_LPAREN_e_RPAREN_ at 0x141c05960>,\n",
       " <Reaction EX_ca2_LPAREN_e_RPAREN_ at 0x141c05a20>,\n",
       " <Reaction EX_cd2_LPAREN_e_RPAREN_ at 0x141c05ae0>,\n",
       " <Reaction EX_zn2_LPAREN_e_RPAREN_ at 0x141c05ba0>,\n",
       " <Reaction EX_cobalt2_LPAREN_e_RPAREN_ at 0x141c05c60>,\n",
       " <Reaction EX_cu2_LPAREN_e_RPAREN_ at 0x141c05d20>,\n",
       " <Reaction EX_ni2_LPAREN_e_RPAREN_ at 0x141c05de0>,\n",
       " <Reaction EX_mg2_LPAREN_e_RPAREN_ at 0x141c05ea0>,\n",
       " <Reaction EX_mn2_LPAREN_e_RPAREN_ at 0x141c05f60>,\n",
       " <Reaction EX_na1_LPAREN_e_RPAREN_ at 0x141c06020>,\n",
       " <Reaction EX_cl_LPAREN_e_RPAREN_ at 0x141c060e0>,\n",
       " <Reaction EX_hom_DASH_L_LPAREN_e_RPAREN_ at 0x141c061a0>,\n",
       " <Reaction EX_fum_LPAREN_e_RPAREN_ at 0x141c55480>,\n",
       " <Reaction EX_acald_LPAREN_e_RPAREN_ at 0x141c55780>,\n",
       " <Reaction EX_pyr_LPAREN_e_RPAREN_ at 0x141ca5450>,\n",
       " <Reaction EX_phpyr_LPAREN_e_RPAREN_ at 0x141ca5540>,\n",
       " <Reaction EX_actn_DASH_R_LPAREN_e_RPAREN_ at 0x141ca5750>,\n",
       " <Reaction EX_orn_DASH_L_LPAREN_e_RPAREN_ at 0x141ca5960>,\n",
       " <Reaction EX_ura_LPAREN_e_RPAREN_ at 0x141ca6020>,\n",
       " <Reaction EX_NH4_LPAREN_e_RPAREN_ at 0x141ca61d0>,\n",
       " <Reaction EX_asn_DASH_L_LPAREN_e_RPAREN_ at 0x141ca6bc0>,\n",
       " <Reaction EX_sucr_LPAREN_e_RPAREN_ at 0x141ca6d10>,\n",
       " <Reaction EX_caspepm_LPAREN_e_RPAREN_ at 0x141ca7040>]"
      ]
     },
     "execution_count": 22,
     "metadata": {},
     "output_type": "execute_result"
    }
   ],
   "source": [
    "model2.boundary"
   ]
  },
  {
   "cell_type": "code",
   "execution_count": 23,
   "id": "9ae26f76",
   "metadata": {},
   "outputs": [
    {
     "data": {
      "text/plain": [
       "{'EX_ala_DASH_L_LPAREN_e_RPAREN_': 1000.0,\n",
       " 'EX_arg_DASH_L_LPAREN_e_RPAREN_': 1000.0,\n",
       " 'EX_asp_DASH_L_LPAREN_e_RPAREN_': 1000.0,\n",
       " 'EX_co2_LPAREN_e_RPAREN_': 1000.0,\n",
       " 'EX_cys_DASH_L_LPAREN_e_RPAREN_': 1000.0,\n",
       " 'EX_gln_DASH_L_LPAREN_e_RPAREN_': 1000.0,\n",
       " 'EX_glu_DASH_L_LPAREN_e_RPAREN_': 1000.0,\n",
       " 'EX_gly_LPAREN_e_RPAREN_': 1000.0,\n",
       " 'EX_h_LPAREN_e_RPAREN_': 1000.0,\n",
       " 'EX_h2o_LPAREN_e_RPAREN_': 1000.0,\n",
       " 'EX_his_DASH_L_LPAREN_e_RPAREN_': 1000.0,\n",
       " 'EX_ile_DASH_L_LPAREN_e_RPAREN_': 1000.0,\n",
       " 'EX_lcts_LPAREN_e_RPAREN_': 25.11,\n",
       " 'EX_leu_DASH_L_LPAREN_e_RPAREN_': 1000.0,\n",
       " 'EX_lys_DASH_L_LPAREN_e_RPAREN_': 1000.0,\n",
       " 'EX_met_DASH_L_LPAREN_e_RPAREN_': 1000.0,\n",
       " 'EX_nac_LPAREN_e_RPAREN_': 1000.0,\n",
       " 'EX_phe_DASH_L_LPAREN_e_RPAREN_': 1000.0,\n",
       " 'EX_pi_LPAREN_e_RPAREN_': 1000.0,\n",
       " 'EX_pnto_DASH_R_LPAREN_e_RPAREN_': 1000.0,\n",
       " 'EX_pro_DASH_L_LPAREN_e_RPAREN_': 1000.0,\n",
       " 'EX_pydam_LPAREN_e_RPAREN_': 1000.0,\n",
       " 'EX_ribflv_LPAREN_e_RPAREN_': 1000.0,\n",
       " 'EX_ser_DASH_L_LPAREN_e_RPAREN_': 1000.0,\n",
       " 'EX_thm_LPAREN_e_RPAREN_': 1000.0,\n",
       " 'EX_thr_DASH_L_LPAREN_e_RPAREN_': 1000.0,\n",
       " 'EX_trp_DASH_L_LPAREN_e_RPAREN_': 1000.0,\n",
       " 'EX_tyr_DASH_L_LPAREN_e_RPAREN_': 1000.0,\n",
       " 'EX_urea_LPAREN_e_RPAREN_': 1000.0,\n",
       " 'EX_val_DASH_L_LPAREN_e_RPAREN_': 1000.0,\n",
       " 'EX_pydx_LPAREN_e_RPAREN_': 1000.0,\n",
       " 'EX_pydxn_LPAREN_e_RPAREN_': 1000.0,\n",
       " 'EX_btn_LPAREN_e_RPAREN_': 1000.0,\n",
       " 'EX_cbl1_LPAREN_e_RPAREN_': 1000.0,\n",
       " 'EX_fe2_LPAREN_e_RPAREN_': 1000.0,\n",
       " 'EX_fe3_LPAREN_e_RPAREN_': 1000.0,\n",
       " 'EX_gua_LPAREN_e_RPAREN_': 1000.0,\n",
       " 'EX_ca2_LPAREN_e_RPAREN_': 1000.0,\n",
       " 'EX_cd2_LPAREN_e_RPAREN_': 1000.0,\n",
       " 'EX_zn2_LPAREN_e_RPAREN_': 1000.0,\n",
       " 'EX_cobalt2_LPAREN_e_RPAREN_': 1000.0,\n",
       " 'EX_cu2_LPAREN_e_RPAREN_': 1000.0,\n",
       " 'EX_ni2_LPAREN_e_RPAREN_': 1000.0,\n",
       " 'EX_mg2_LPAREN_e_RPAREN_': 1000.0,\n",
       " 'EX_mn2_LPAREN_e_RPAREN_': 1000.0,\n",
       " 'EX_na1_LPAREN_e_RPAREN_': 1000.0,\n",
       " 'EX_cl_LPAREN_e_RPAREN_': 1000.0,\n",
       " 'EX_hom_DASH_L_LPAREN_e_RPAREN_': 1000.0,\n",
       " 'EX_ura_LPAREN_e_RPAREN_': 1000.0,\n",
       " 'EX_asn_DASH_L_LPAREN_e_RPAREN_': 1000.0}"
      ]
     },
     "execution_count": 23,
     "metadata": {},
     "output_type": "execute_result"
    }
   ],
   "source": [
    "model2.medium"
   ]
  },
  {
   "cell_type": "code",
   "execution_count": 24,
   "id": "e8296ee9",
   "metadata": {},
   "outputs": [
    {
     "data": {
      "text/plain": [
       "EX_ala_DASH_L_LPAREN_e_RPAREN_      0.645565\n",
       "EX_arg_DASH_L_LPAREN_e_RPAREN_      0.052990\n",
       "EX_asp_DASH_L_LPAREN_e_RPAREN_      0.246557\n",
       "EX_cys_DASH_L_LPAREN_e_RPAREN_      0.014001\n",
       "EX_gln_DASH_L_LPAREN_e_RPAREN_      0.394843\n",
       "EX_gly_LPAREN_e_RPAREN_             0.048362\n",
       "EX_h2o_LPAREN_e_RPAREN_            17.736912\n",
       "EX_his_DASH_L_LPAREN_e_RPAREN_      0.039167\n",
       "EX_ile_DASH_L_LPAREN_e_RPAREN_      0.082941\n",
       "EX_lcts_LPAREN_e_RPAREN_           25.110000\n",
       "EX_leu_DASH_L_LPAREN_e_RPAREN_      0.165882\n",
       "EX_lys_DASH_L_LPAREN_e_RPAREN_      0.242842\n",
       "EX_met_DASH_L_LPAREN_e_RPAREN_      0.034559\n",
       "EX_nac_LPAREN_e_RPAREN_             0.001778\n",
       "EX_phe_DASH_L_LPAREN_e_RPAREN_      0.071421\n",
       "EX_pi_LPAREN_e_RPAREN_              0.839523\n",
       "EX_pnto_DASH_R_LPAREN_e_RPAREN_     0.000178\n",
       "EX_pro_DASH_L_LPAREN_e_RPAREN_      0.294901\n",
       "EX_ribflv_LPAREN_e_RPAREN_          0.000010\n",
       "EX_ser_DASH_L_LPAREN_e_RPAREN_      0.251528\n",
       "EX_thm_LPAREN_e_RPAREN_             0.000010\n",
       "EX_thr_DASH_L_LPAREN_e_RPAREN_      0.101372\n",
       "EX_trp_DASH_L_LPAREN_e_RPAREN_      0.108284\n",
       "EX_tyr_DASH_L_LPAREN_e_RPAREN_      0.073725\n",
       "EX_urea_LPAREN_e_RPAREN_            0.085705\n",
       "EX_val_DASH_L_LPAREN_e_RPAREN_      0.119804\n",
       "EX_gua_LPAREN_e_RPAREN_             0.129157\n",
       "EX_ura_LPAREN_e_RPAREN_             0.126763\n",
       "EX_asn_DASH_L_LPAREN_e_RPAREN_      0.184313\n",
       "dtype: float64"
      ]
     },
     "execution_count": 24,
     "metadata": {},
     "output_type": "execute_result"
    }
   ],
   "source": [
    "from cobra.medium import minimal_medium\n",
    "max_growth_2 = model2.slim_optimize()\n",
    "minimal_medium(model2, max_growth_2)"
   ]
  },
  {
   "cell_type": "code",
   "execution_count": 25,
   "id": "a7af1563",
   "metadata": {},
   "outputs": [
    {
     "data": {
      "text/html": [
       "<div>\n",
       "<style scoped>\n",
       "    .dataframe tbody tr th:only-of-type {\n",
       "        vertical-align: middle;\n",
       "    }\n",
       "\n",
       "    .dataframe tbody tr th {\n",
       "        vertical-align: top;\n",
       "    }\n",
       "\n",
       "    .dataframe thead th {\n",
       "        text-align: right;\n",
       "    }\n",
       "</style>\n",
       "<table border=\"1\" class=\"dataframe\">\n",
       "  <thead>\n",
       "    <tr style=\"text-align: right;\">\n",
       "      <th></th>\n",
       "      <th>0</th>\n",
       "      <th>1</th>\n",
       "    </tr>\n",
       "  </thead>\n",
       "  <tbody>\n",
       "    <tr>\n",
       "      <th>EX_asn_DASH_L_LPAREN_e_RPAREN_</th>\n",
       "      <td>2.714086e-01</td>\n",
       "      <td>0.000000e+00</td>\n",
       "    </tr>\n",
       "    <tr>\n",
       "      <th>EX_cys_DASH_L_LPAREN_e_RPAREN_</th>\n",
       "      <td>4.915200e-03</td>\n",
       "      <td>4.915200e-03</td>\n",
       "    </tr>\n",
       "    <tr>\n",
       "      <th>EX_gln_DASH_L_LPAREN_e_RPAREN_</th>\n",
       "      <td>0.000000e+00</td>\n",
       "      <td>2.714086e-01</td>\n",
       "    </tr>\n",
       "    <tr>\n",
       "      <th>EX_h2o_LPAREN_e_RPAREN_</th>\n",
       "      <td>1.700771e+01</td>\n",
       "      <td>1.641789e+01</td>\n",
       "    </tr>\n",
       "    <tr>\n",
       "      <th>EX_lcts_LPAREN_e_RPAREN_</th>\n",
       "      <td>2.511000e+01</td>\n",
       "      <td>2.511000e+01</td>\n",
       "    </tr>\n",
       "    <tr>\n",
       "      <th>EX_nac_LPAREN_e_RPAREN_</th>\n",
       "      <td>1.800000e-04</td>\n",
       "      <td>1.800000e-04</td>\n",
       "    </tr>\n",
       "    <tr>\n",
       "      <th>EX_pi_LPAREN_e_RPAREN_</th>\n",
       "      <td>8.497560e-02</td>\n",
       "      <td>8.497560e-02</td>\n",
       "    </tr>\n",
       "    <tr>\n",
       "      <th>EX_pnto_DASH_R_LPAREN_e_RPAREN_</th>\n",
       "      <td>1.800000e-05</td>\n",
       "      <td>1.800000e-05</td>\n",
       "    </tr>\n",
       "    <tr>\n",
       "      <th>EX_ribflv_LPAREN_e_RPAREN_</th>\n",
       "      <td>1.000000e-06</td>\n",
       "      <td>1.000000e-06</td>\n",
       "    </tr>\n",
       "    <tr>\n",
       "      <th>EX_thm_LPAREN_e_RPAREN_</th>\n",
       "      <td>1.000000e-06</td>\n",
       "      <td>1.000000e-06</td>\n",
       "    </tr>\n",
       "  </tbody>\n",
       "</table>\n",
       "</div>"
      ],
      "text/plain": [
       "                                            0             1\n",
       "EX_asn_DASH_L_LPAREN_e_RPAREN_   2.714086e-01  0.000000e+00\n",
       "EX_cys_DASH_L_LPAREN_e_RPAREN_   4.915200e-03  4.915200e-03\n",
       "EX_gln_DASH_L_LPAREN_e_RPAREN_   0.000000e+00  2.714086e-01\n",
       "EX_h2o_LPAREN_e_RPAREN_          1.700771e+01  1.641789e+01\n",
       "EX_lcts_LPAREN_e_RPAREN_         2.511000e+01  2.511000e+01\n",
       "EX_nac_LPAREN_e_RPAREN_          1.800000e-04  1.800000e-04\n",
       "EX_pi_LPAREN_e_RPAREN_           8.497560e-02  8.497560e-02\n",
       "EX_pnto_DASH_R_LPAREN_e_RPAREN_  1.800000e-05  1.800000e-05\n",
       "EX_ribflv_LPAREN_e_RPAREN_       1.000000e-06  1.000000e-06\n",
       "EX_thm_LPAREN_e_RPAREN_          1.000000e-06  1.000000e-06"
      ]
     },
     "execution_count": 25,
     "metadata": {},
     "output_type": "execute_result"
    }
   ],
   "source": [
    "minimal_medium(model2, 0.1, minimize_components=8)"
   ]
  },
  {
   "cell_type": "markdown",
   "id": "bee17487",
   "metadata": {},
   "source": [
    "***IMPORTANT***:\n",
    "\n",
    "`model.medium` is just a copy of the current exchange fluxes. Assigning some value to it directly with, for exxample:\n",
    "\n",
    "```Python\n",
    "model.medium['EX_glc__D_e'] = 10\n",
    "```\n",
    "will not change the model. You have to assign an entire dictionary with the changed import flux upper bounds:\n",
    "\n",
    "```Python\n",
    "medium = model.medium\n",
    "medium[\"EX_co2_e\"] = 0.0\n",
    "model.medium = medium\n",
    "\n",
    "model.medium  # check the changes\n",
    "```\n",
    "Setting the growth medium also connects to the context manager, so you can set a specific growth medium in a reversible manner.\n",
    "\n",
    "```Python\n",
    "    medium = model.medium\n",
    "    medium[\"EX_o2_e\"] = 0.0\n",
    "    model.medium = medium\n",
    "    print(model.slim_optimize())\n",
    "print(model.slim_optimize())\n",
    "model.medium\n",
    "```"
   ]
  },
  {
   "cell_type": "markdown",
   "id": "8d54e3da",
   "metadata": {},
   "source": [
    "### Set bounds for model 1 (*E. coli*)"
   ]
  },
  {
   "cell_type": "code",
   "execution_count": 26,
   "id": "ad813c01",
   "metadata": {},
   "outputs": [
    {
     "data": {
      "text/html": [
       "\n",
       "        <table>\n",
       "            <tr>\n",
       "                <td><strong>Name</strong></td>\n",
       "                <td>e_coli_core</td>\n",
       "            </tr><tr>\n",
       "                <td><strong>Memory address</strong></td>\n",
       "                <td>1412bfd30</td>\n",
       "            </tr><tr>\n",
       "                <td><strong>Number of metabolites</strong></td>\n",
       "                <td>72</td>\n",
       "            </tr><tr>\n",
       "                <td><strong>Number of reactions</strong></td>\n",
       "                <td>95</td>\n",
       "            </tr><tr>\n",
       "                <td><strong>Number of genes</strong></td>\n",
       "                <td>137</td>\n",
       "            </tr><tr>\n",
       "                <td><strong>Number of groups</strong></td>\n",
       "                <td>0</td>\n",
       "            </tr><tr>\n",
       "                <td><strong>Objective expression</strong></td>\n",
       "                <td>1.0*BIOMASS_Ecoli_core_w_GAM - 1.0*BIOMASS_Ecoli_core_w_GAM_reverse_712e5</td>\n",
       "            </tr><tr>\n",
       "                <td><strong>Compartments</strong></td>\n",
       "                <td>extracellular space, cytosol</td>\n",
       "            </tr>\n",
       "          </table>"
      ],
      "text/plain": [
       "<Model e_coli_core at 0x1412bfd30>"
      ]
     },
     "execution_count": 26,
     "metadata": {},
     "output_type": "execute_result"
    }
   ],
   "source": [
    "model1"
   ]
  },
  {
   "cell_type": "code",
   "execution_count": 27,
   "id": "2ff4d65e",
   "metadata": {},
   "outputs": [
    {
     "data": {
      "text/html": [
       "<strong><em>Optimal</em> solution with objective value 0.874</strong><br><div>\n",
       "<style scoped>\n",
       "    .dataframe tbody tr th:only-of-type {\n",
       "        vertical-align: middle;\n",
       "    }\n",
       "\n",
       "    .dataframe tbody tr th {\n",
       "        vertical-align: top;\n",
       "    }\n",
       "\n",
       "    .dataframe thead th {\n",
       "        text-align: right;\n",
       "    }\n",
       "</style>\n",
       "<table border=\"1\" class=\"dataframe\">\n",
       "  <thead>\n",
       "    <tr style=\"text-align: right;\">\n",
       "      <th></th>\n",
       "      <th>fluxes</th>\n",
       "      <th>reduced_costs</th>\n",
       "    </tr>\n",
       "  </thead>\n",
       "  <tbody>\n",
       "    <tr>\n",
       "      <th>PFK</th>\n",
       "      <td>7.477382</td>\n",
       "      <td>0.000000</td>\n",
       "    </tr>\n",
       "    <tr>\n",
       "      <th>PFL</th>\n",
       "      <td>0.000000</td>\n",
       "      <td>-0.015277</td>\n",
       "    </tr>\n",
       "    <tr>\n",
       "      <th>PGI</th>\n",
       "      <td>4.860861</td>\n",
       "      <td>0.000000</td>\n",
       "    </tr>\n",
       "    <tr>\n",
       "      <th>PGK</th>\n",
       "      <td>-16.023526</td>\n",
       "      <td>-0.000000</td>\n",
       "    </tr>\n",
       "    <tr>\n",
       "      <th>PGL</th>\n",
       "      <td>4.959985</td>\n",
       "      <td>0.000000</td>\n",
       "    </tr>\n",
       "    <tr>\n",
       "      <th>...</th>\n",
       "      <td>...</td>\n",
       "      <td>...</td>\n",
       "    </tr>\n",
       "    <tr>\n",
       "      <th>NADH16</th>\n",
       "      <td>38.534610</td>\n",
       "      <td>0.000000</td>\n",
       "    </tr>\n",
       "    <tr>\n",
       "      <th>NADTRHD</th>\n",
       "      <td>0.000000</td>\n",
       "      <td>-0.002546</td>\n",
       "    </tr>\n",
       "    <tr>\n",
       "      <th>NH4t</th>\n",
       "      <td>4.765319</td>\n",
       "      <td>0.000000</td>\n",
       "    </tr>\n",
       "    <tr>\n",
       "      <th>O2t</th>\n",
       "      <td>21.799493</td>\n",
       "      <td>0.000000</td>\n",
       "    </tr>\n",
       "    <tr>\n",
       "      <th>PDH</th>\n",
       "      <td>9.282533</td>\n",
       "      <td>0.000000</td>\n",
       "    </tr>\n",
       "  </tbody>\n",
       "</table>\n",
       "<p>95 rows × 2 columns</p>\n",
       "</div>"
      ],
      "text/plain": [
       "<Solution 0.874 at 0x1386737c0>"
      ]
     },
     "execution_count": 27,
     "metadata": {},
     "output_type": "execute_result"
    }
   ],
   "source": [
    "model1.optimize()"
   ]
  },
  {
   "cell_type": "code",
   "execution_count": 28,
   "id": "50a9ebe1",
   "metadata": {},
   "outputs": [
    {
     "data": {
      "text/html": [
       "\n",
       "        <table>\n",
       "            <tr>\n",
       "                <td><strong>Reaction identifier</strong></td><td>EX_glc__D_e</td>\n",
       "            </tr><tr>\n",
       "                <td><strong>Name</strong></td><td>D-Glucose exchange</td>\n",
       "            </tr><tr>\n",
       "                <td><strong>Memory address</strong></td>\n",
       "                <td>0x14194aaa0</td>\n",
       "            </tr><tr>\n",
       "                <td><strong>Stoichiometry</strong></td>\n",
       "                <td>\n",
       "                    <p style='text-align:right'>glc__D_e <=></p>\n",
       "                    <p style='text-align:right'>D-Glucose <=></p>\n",
       "                </td>\n",
       "            </tr><tr>\n",
       "                <td><strong>GPR</strong></td><td></td>\n",
       "            </tr><tr>\n",
       "                <td><strong>Lower bound</strong></td><td>-10.0</td>\n",
       "            </tr><tr>\n",
       "                <td><strong>Upper bound</strong></td><td>1000.0</td>\n",
       "            </tr>\n",
       "        </table>\n",
       "        "
      ],
      "text/plain": [
       "<Reaction EX_glc__D_e at 0x14194aaa0>"
      ]
     },
     "execution_count": 28,
     "metadata": {},
     "output_type": "execute_result"
    }
   ],
   "source": [
    "# E. coli glucose exchange reaction\n",
    "model1.reactions.get_by_id(\"EX_glc__D_e\")\n"
   ]
  },
  {
   "cell_type": "code",
   "execution_count": 29,
   "id": "46e4d98a",
   "metadata": {},
   "outputs": [
    {
     "data": {
      "text/html": [
       "\n",
       "        <table>\n",
       "            <tr>\n",
       "                <td><strong>Reaction identifier</strong></td><td>GLCpts</td>\n",
       "            </tr><tr>\n",
       "                <td><strong>Name</strong></td><td>D-glucose transport via PEP:Pyr PTS</td>\n",
       "            </tr><tr>\n",
       "                <td><strong>Memory address</strong></td>\n",
       "                <td>0x141979ff0</td>\n",
       "            </tr><tr>\n",
       "                <td><strong>Stoichiometry</strong></td>\n",
       "                <td>\n",
       "                    <p style='text-align:right'>glc__D_e + pep_c --> g6p_c + pyr_c</p>\n",
       "                    <p style='text-align:right'>D-Glucose + Phosphoenolpyruvate --> D-Glucose 6-phosphate + Pyruvate</p>\n",
       "                </td>\n",
       "            </tr><tr>\n",
       "                <td><strong>GPR</strong></td><td>(b2417 and b1101 and b2415 and b2416) or (b1817 and b1818 and b1819 and b2415 and b2416) or...</td>\n",
       "            </tr><tr>\n",
       "                <td><strong>Lower bound</strong></td><td>0.0</td>\n",
       "            </tr><tr>\n",
       "                <td><strong>Upper bound</strong></td><td>1000.0</td>\n",
       "            </tr>\n",
       "        </table>\n",
       "        "
      ],
      "text/plain": [
       "<Reaction GLCpts at 0x141979ff0>"
      ]
     },
     "execution_count": 29,
     "metadata": {},
     "output_type": "execute_result"
    }
   ],
   "source": [
    "# E. coli glucose transporter\n",
    "model1.reactions.get_by_id(\"GLCpts\")"
   ]
  },
  {
   "cell_type": "markdown",
   "id": "bb55a3e6",
   "metadata": {},
   "source": [
    "Set *upper bound* of the glucose transporter to *minus* the *lower bound* of the glucose exchange reaction."
   ]
  },
  {
   "cell_type": "code",
   "execution_count": 30,
   "id": "c64d921d",
   "metadata": {},
   "outputs": [
    {
     "data": {
      "text/html": [
       "\n",
       "        <table>\n",
       "            <tr>\n",
       "                <td><strong>Reaction identifier</strong></td><td>GLCpts</td>\n",
       "            </tr><tr>\n",
       "                <td><strong>Name</strong></td><td>D-glucose transport via PEP:Pyr PTS</td>\n",
       "            </tr><tr>\n",
       "                <td><strong>Memory address</strong></td>\n",
       "                <td>0x141979ff0</td>\n",
       "            </tr><tr>\n",
       "                <td><strong>Stoichiometry</strong></td>\n",
       "                <td>\n",
       "                    <p style='text-align:right'>glc__D_e + pep_c --> g6p_c + pyr_c</p>\n",
       "                    <p style='text-align:right'>D-Glucose + Phosphoenolpyruvate --> D-Glucose 6-phosphate + Pyruvate</p>\n",
       "                </td>\n",
       "            </tr><tr>\n",
       "                <td><strong>GPR</strong></td><td>(b2417 and b1101 and b2415 and b2416) or (b1817 and b1818 and b1819 and b2415 and b2416) or...</td>\n",
       "            </tr><tr>\n",
       "                <td><strong>Lower bound</strong></td><td>0.0</td>\n",
       "            </tr><tr>\n",
       "                <td><strong>Upper bound</strong></td><td>10.0</td>\n",
       "            </tr>\n",
       "        </table>\n",
       "        "
      ],
      "text/plain": [
       "<Reaction GLCpts at 0x141979ff0>"
      ]
     },
     "execution_count": 30,
     "metadata": {},
     "output_type": "execute_result"
    }
   ],
   "source": [
    "model1.reactions.get_by_id(\"GLCpts\").upper_bound = 10.\n",
    "model1.reactions.get_by_id(\"GLCpts\").lower_bound = 0.\n",
    "model1.reactions.get_by_id(\"GLCpts\")"
   ]
  },
  {
   "cell_type": "code",
   "execution_count": 31,
   "id": "97e26bf6",
   "metadata": {},
   "outputs": [
    {
     "name": "stdout",
     "output_type": "stream",
     "text": [
      "(-10.0, 1000.0)\n",
      "(0.0, 10.0)\n"
     ]
    }
   ],
   "source": [
    "# E. coli glucose reactions\n",
    "print(model1.reactions.get_by_id(\"EX_glc__D_e\").bounds)\n",
    "print(model1.reactions.get_by_id(\"GLCpts\").bounds)"
   ]
  },
  {
   "cell_type": "code",
   "execution_count": 32,
   "id": "44e4c8ca",
   "metadata": {},
   "outputs": [
    {
     "data": {
      "text/html": [
       "<strong><em>Optimal</em> solution with objective value 0.874</strong><br><div>\n",
       "<style scoped>\n",
       "    .dataframe tbody tr th:only-of-type {\n",
       "        vertical-align: middle;\n",
       "    }\n",
       "\n",
       "    .dataframe tbody tr th {\n",
       "        vertical-align: top;\n",
       "    }\n",
       "\n",
       "    .dataframe thead th {\n",
       "        text-align: right;\n",
       "    }\n",
       "</style>\n",
       "<table border=\"1\" class=\"dataframe\">\n",
       "  <thead>\n",
       "    <tr style=\"text-align: right;\">\n",
       "      <th></th>\n",
       "      <th>fluxes</th>\n",
       "      <th>reduced_costs</th>\n",
       "    </tr>\n",
       "  </thead>\n",
       "  <tbody>\n",
       "    <tr>\n",
       "      <th>PFK</th>\n",
       "      <td>7.477382</td>\n",
       "      <td>4.336809e-19</td>\n",
       "    </tr>\n",
       "    <tr>\n",
       "      <th>PFL</th>\n",
       "      <td>0.000000</td>\n",
       "      <td>-1.527746e-02</td>\n",
       "    </tr>\n",
       "    <tr>\n",
       "      <th>PGI</th>\n",
       "      <td>4.860861</td>\n",
       "      <td>0.000000e+00</td>\n",
       "    </tr>\n",
       "    <tr>\n",
       "      <th>PGK</th>\n",
       "      <td>-16.023526</td>\n",
       "      <td>-0.000000e+00</td>\n",
       "    </tr>\n",
       "    <tr>\n",
       "      <th>PGL</th>\n",
       "      <td>4.959985</td>\n",
       "      <td>0.000000e+00</td>\n",
       "    </tr>\n",
       "    <tr>\n",
       "      <th>...</th>\n",
       "      <td>...</td>\n",
       "      <td>...</td>\n",
       "    </tr>\n",
       "    <tr>\n",
       "      <th>NADH16</th>\n",
       "      <td>38.534610</td>\n",
       "      <td>0.000000e+00</td>\n",
       "    </tr>\n",
       "    <tr>\n",
       "      <th>NADTRHD</th>\n",
       "      <td>0.000000</td>\n",
       "      <td>-2.546243e-03</td>\n",
       "    </tr>\n",
       "    <tr>\n",
       "      <th>NH4t</th>\n",
       "      <td>4.765319</td>\n",
       "      <td>0.000000e+00</td>\n",
       "    </tr>\n",
       "    <tr>\n",
       "      <th>O2t</th>\n",
       "      <td>21.799493</td>\n",
       "      <td>0.000000e+00</td>\n",
       "    </tr>\n",
       "    <tr>\n",
       "      <th>PDH</th>\n",
       "      <td>9.282533</td>\n",
       "      <td>-2.602085e-18</td>\n",
       "    </tr>\n",
       "  </tbody>\n",
       "</table>\n",
       "<p>95 rows × 2 columns</p>\n",
       "</div>"
      ],
      "text/plain": [
       "<Solution 0.874 at 0x1387c4490>"
      ]
     },
     "execution_count": 32,
     "metadata": {},
     "output_type": "execute_result"
    }
   ],
   "source": [
    "model1.optimize()"
   ]
  },
  {
   "cell_type": "markdown",
   "id": "1d7bac32",
   "metadata": {},
   "source": [
    "### Set bounds for model 2 (Strept. thermophilus)"
   ]
  },
  {
   "cell_type": "code",
   "execution_count": 33,
   "id": "73f74fa9",
   "metadata": {},
   "outputs": [
    {
     "data": {
      "text/html": [
       "\n",
       "        <table>\n",
       "            <tr>\n",
       "                <td><strong>Name</strong></td>\n",
       "                <td>iRZ476</td>\n",
       "            </tr><tr>\n",
       "                <td><strong>Memory address</strong></td>\n",
       "                <td>1381d73d0</td>\n",
       "            </tr><tr>\n",
       "                <td><strong>Number of metabolites</strong></td>\n",
       "                <td>632</td>\n",
       "            </tr><tr>\n",
       "                <td><strong>Number of reactions</strong></td>\n",
       "                <td>656</td>\n",
       "            </tr><tr>\n",
       "                <td><strong>Number of genes</strong></td>\n",
       "                <td>476</td>\n",
       "            </tr><tr>\n",
       "                <td><strong>Number of groups</strong></td>\n",
       "                <td>0</td>\n",
       "            </tr><tr>\n",
       "                <td><strong>Objective expression</strong></td>\n",
       "                <td>1.0*biomass_STR - 1.0*biomass_STR_reverse_5425b</td>\n",
       "            </tr><tr>\n",
       "                <td><strong>Compartments</strong></td>\n",
       "                <td>Extracellular, Cytoplasm</td>\n",
       "            </tr>\n",
       "          </table>"
      ],
      "text/plain": [
       "<Model iRZ476 at 0x1381d73d0>"
      ]
     },
     "execution_count": 33,
     "metadata": {},
     "output_type": "execute_result"
    }
   ],
   "source": [
    "model2"
   ]
  },
  {
   "cell_type": "code",
   "execution_count": 34,
   "id": "d42692c2",
   "metadata": {},
   "outputs": [
    {
     "data": {
      "text/html": [
       "<strong><em>Optimal</em> solution with objective value 0.988</strong><br><div>\n",
       "<style scoped>\n",
       "    .dataframe tbody tr th:only-of-type {\n",
       "        vertical-align: middle;\n",
       "    }\n",
       "\n",
       "    .dataframe tbody tr th {\n",
       "        vertical-align: top;\n",
       "    }\n",
       "\n",
       "    .dataframe thead th {\n",
       "        text-align: right;\n",
       "    }\n",
       "</style>\n",
       "<table border=\"1\" class=\"dataframe\">\n",
       "  <thead>\n",
       "    <tr style=\"text-align: right;\">\n",
       "      <th></th>\n",
       "      <th>fluxes</th>\n",
       "      <th>reduced_costs</th>\n",
       "    </tr>\n",
       "  </thead>\n",
       "  <tbody>\n",
       "    <tr>\n",
       "      <th>MANpts</th>\n",
       "      <td>0.000000</td>\n",
       "      <td>0.000000e+00</td>\n",
       "    </tr>\n",
       "    <tr>\n",
       "      <th>PGGT2</th>\n",
       "      <td>0.122971</td>\n",
       "      <td>0.000000e+00</td>\n",
       "    </tr>\n",
       "    <tr>\n",
       "      <th>AIRC</th>\n",
       "      <td>0.041851</td>\n",
       "      <td>0.000000e+00</td>\n",
       "    </tr>\n",
       "    <tr>\n",
       "      <th>Kt2</th>\n",
       "      <td>0.000000</td>\n",
       "      <td>-0.000000e+00</td>\n",
       "    </tr>\n",
       "    <tr>\n",
       "      <th>MOADCST</th>\n",
       "      <td>0.000000</td>\n",
       "      <td>-1.387779e-17</td>\n",
       "    </tr>\n",
       "    <tr>\n",
       "      <th>...</th>\n",
       "      <td>...</td>\n",
       "      <td>...</td>\n",
       "    </tr>\n",
       "    <tr>\n",
       "      <th>EX_sucr_LPAREN_e_RPAREN_</th>\n",
       "      <td>0.000000</td>\n",
       "      <td>-4.916346e-01</td>\n",
       "    </tr>\n",
       "    <tr>\n",
       "      <th>FFSD</th>\n",
       "      <td>0.000000</td>\n",
       "      <td>0.000000e+00</td>\n",
       "    </tr>\n",
       "    <tr>\n",
       "      <th>CASP</th>\n",
       "      <td>0.000000</td>\n",
       "      <td>0.000000e+00</td>\n",
       "    </tr>\n",
       "    <tr>\n",
       "      <th>EX_caspepm_LPAREN_e_RPAREN_</th>\n",
       "      <td>0.000000</td>\n",
       "      <td>-3.897960e-01</td>\n",
       "    </tr>\n",
       "    <tr>\n",
       "      <th>CASMabc</th>\n",
       "      <td>0.000000</td>\n",
       "      <td>-3.035766e-18</td>\n",
       "    </tr>\n",
       "  </tbody>\n",
       "</table>\n",
       "<p>656 rows × 2 columns</p>\n",
       "</div>"
      ],
      "text/plain": [
       "<Solution 0.988 at 0x13822a560>"
      ]
     },
     "execution_count": 34,
     "metadata": {},
     "output_type": "execute_result"
    }
   ],
   "source": [
    "model2.optimize()"
   ]
  },
  {
   "cell_type": "code",
   "execution_count": 35,
   "id": "bde85327",
   "metadata": {},
   "outputs": [
    {
     "name": "stdout",
     "output_type": "stream",
     "text": [
      "(2.54, 2.54)\n",
      "(0.0, 0.0)\n",
      "(-25.11, -25.11)\n",
      "(1.07, 1.07)\n"
     ]
    }
   ],
   "source": [
    "# Strept. thermophilus glucose and lactose exchange reactions and transporters\n",
    "print(model2.reactions.get_by_id(\"EX_glc_DASH_D_LPAREN_e_RPAREN_\").bounds)\n",
    "print(model2.reactions.get_by_id(\"GLCpts\").bounds)\n",
    "print(model2.reactions.get_by_id(\"EX_lcts_LPAREN_e_RPAREN_\").bounds)\n",
    "print(model2.reactions.get_by_id(\"LCTSt6\").bounds)"
   ]
  },
  {
   "cell_type": "code",
   "execution_count": 36,
   "id": "b156da0d",
   "metadata": {},
   "outputs": [
    {
     "data": {
      "text/html": [
       "\n",
       "        <table>\n",
       "            <tr>\n",
       "                <td><strong>Reaction identifier</strong></td><td>EX_glc_DASH_D_LPAREN_e_RPAREN_</td>\n",
       "            </tr><tr>\n",
       "                <td><strong>Name</strong></td><td>D-Glucose exchange</td>\n",
       "            </tr><tr>\n",
       "                <td><strong>Memory address</strong></td>\n",
       "                <td>0x141bdb9a0</td>\n",
       "            </tr><tr>\n",
       "                <td><strong>Stoichiometry</strong></td>\n",
       "                <td>\n",
       "                    <p style='text-align:right'>glc_DASH_D_e <=></p>\n",
       "                    <p style='text-align:right'>D_Glucose_ <=></p>\n",
       "                </td>\n",
       "            </tr><tr>\n",
       "                <td><strong>GPR</strong></td><td></td>\n",
       "            </tr><tr>\n",
       "                <td><strong>Lower bound</strong></td><td>-6.0</td>\n",
       "            </tr><tr>\n",
       "                <td><strong>Upper bound</strong></td><td>1000.0</td>\n",
       "            </tr>\n",
       "        </table>\n",
       "        "
      ],
      "text/plain": [
       "<Reaction EX_glc_DASH_D_LPAREN_e_RPAREN_ at 0x141bdb9a0>"
      ]
     },
     "execution_count": 36,
     "metadata": {},
     "output_type": "execute_result"
    }
   ],
   "source": [
    "# Strept. thermophilus glucose exchange reaction\n",
    "model2.reactions.get_by_id(\"EX_glc_DASH_D_LPAREN_e_RPAREN_\").lower_bound = -6.\n",
    "model2.reactions.get_by_id(\"EX_glc_DASH_D_LPAREN_e_RPAREN_\").upper_bound = 1000.\n",
    "model2.reactions.get_by_id(\"EX_glc_DASH_D_LPAREN_e_RPAREN_\")"
   ]
  },
  {
   "cell_type": "code",
   "execution_count": 37,
   "id": "4788bc14",
   "metadata": {},
   "outputs": [
    {
     "data": {
      "text/html": [
       "\n",
       "        <table>\n",
       "            <tr>\n",
       "                <td><strong>Reaction identifier</strong></td><td>GLCpts</td>\n",
       "            </tr><tr>\n",
       "                <td><strong>Name</strong></td><td>D-glucose transport via PEP:Pyr PTS</td>\n",
       "            </tr><tr>\n",
       "                <td><strong>Memory address</strong></td>\n",
       "                <td>0x1419d7be0</td>\n",
       "            </tr><tr>\n",
       "                <td><strong>Stoichiometry</strong></td>\n",
       "                <td>\n",
       "                    <p style='text-align:right'>glc_DASH_D_e + pep_c --> g6p_c + pyr_c</p>\n",
       "                    <p style='text-align:right'>D_Glucose_ + Phosphoenolpyruvate_ --> D_Glucose_6_phosphate_ + Pyruvate_</p>\n",
       "                </td>\n",
       "            </tr><tr>\n",
       "                <td><strong>GPR</strong></td><td>CH8_1345 and CH8_1344 and CH8_0370 and CH8_0371 and CH8_0372</td>\n",
       "            </tr><tr>\n",
       "                <td><strong>Lower bound</strong></td><td>0.0</td>\n",
       "            </tr><tr>\n",
       "                <td><strong>Upper bound</strong></td><td>6.0</td>\n",
       "            </tr>\n",
       "        </table>\n",
       "        "
      ],
      "text/plain": [
       "<Reaction GLCpts at 0x1419d7be0>"
      ]
     },
     "execution_count": 37,
     "metadata": {},
     "output_type": "execute_result"
    }
   ],
   "source": [
    "# Strept. thermophilus glucose transport reaction\n",
    "model2.reactions.get_by_id(\"GLCpts\").bounds = (0.0, 6.0)\n",
    "model2.reactions.get_by_id(\"GLCpts\")"
   ]
  },
  {
   "cell_type": "code",
   "execution_count": 38,
   "id": "4e3e3b41",
   "metadata": {},
   "outputs": [
    {
     "data": {
      "text/html": [
       "\n",
       "        <table>\n",
       "            <tr>\n",
       "                <td><strong>Reaction identifier</strong></td><td>EX_lcts_LPAREN_e_RPAREN_</td>\n",
       "            </tr><tr>\n",
       "                <td><strong>Name</strong></td><td>Lactose exchange</td>\n",
       "            </tr><tr>\n",
       "                <td><strong>Memory address</strong></td>\n",
       "                <td>0x141bd8ca0</td>\n",
       "            </tr><tr>\n",
       "                <td><strong>Stoichiometry</strong></td>\n",
       "                <td>\n",
       "                    <p style='text-align:right'>lcts_e <=></p>\n",
       "                    <p style='text-align:right'>Lactose_ <=></p>\n",
       "                </td>\n",
       "            </tr><tr>\n",
       "                <td><strong>GPR</strong></td><td></td>\n",
       "            </tr><tr>\n",
       "                <td><strong>Lower bound</strong></td><td>-30.0</td>\n",
       "            </tr><tr>\n",
       "                <td><strong>Upper bound</strong></td><td>1000.0</td>\n",
       "            </tr>\n",
       "        </table>\n",
       "        "
      ],
      "text/plain": [
       "<Reaction EX_lcts_LPAREN_e_RPAREN_ at 0x141bd8ca0>"
      ]
     },
     "execution_count": 38,
     "metadata": {},
     "output_type": "execute_result"
    }
   ],
   "source": [
    "# Strept. thermophilus lactose exchange reaction\n",
    "model2.reactions.get_by_id(\"EX_lcts_LPAREN_e_RPAREN_\").lower_bound = -30.0\n",
    "model2.reactions.get_by_id(\"EX_lcts_LPAREN_e_RPAREN_\").upper_bound = 1000.0\n",
    "model2.reactions.get_by_id(\"EX_lcts_LPAREN_e_RPAREN_\")"
   ]
  },
  {
   "cell_type": "markdown",
   "id": "bff37732",
   "metadata": {},
   "source": [
    "Set the upper bound of lactose transport reaction to *minus* the lower bound of the exchange reaction"
   ]
  },
  {
   "cell_type": "code",
   "execution_count": 39,
   "id": "63b4667f",
   "metadata": {},
   "outputs": [
    {
     "data": {
      "text/html": [
       "\n",
       "        <table>\n",
       "            <tr>\n",
       "                <td><strong>Reaction identifier</strong></td><td>LCTSt6</td>\n",
       "            </tr><tr>\n",
       "                <td><strong>Name</strong></td><td>lactose transport inout via proton symport</td>\n",
       "            </tr><tr>\n",
       "                <td><strong>Memory address</strong></td>\n",
       "                <td>0x141b67b80</td>\n",
       "            </tr><tr>\n",
       "                <td><strong>Stoichiometry</strong></td>\n",
       "                <td>\n",
       "                    <p style='text-align:right'>h_e + lcts_e --> h_c + lcts_c</p>\n",
       "                    <p style='text-align:right'>H_ + Lactose_ --> H_ + Lactose_</p>\n",
       "                </td>\n",
       "            </tr><tr>\n",
       "                <td><strong>GPR</strong></td><td>CH8_1487</td>\n",
       "            </tr><tr>\n",
       "                <td><strong>Lower bound</strong></td><td>0.0</td>\n",
       "            </tr><tr>\n",
       "                <td><strong>Upper bound</strong></td><td>30.0</td>\n",
       "            </tr>\n",
       "        </table>\n",
       "        "
      ],
      "text/plain": [
       "<Reaction LCTSt6 at 0x141b67b80>"
      ]
     },
     "execution_count": 39,
     "metadata": {},
     "output_type": "execute_result"
    }
   ],
   "source": [
    "# Strept. thermophilus lactose transport reaction\n",
    "model2.reactions.get_by_id(\"LCTSt6\").bounds = (0.0,30.0)\n",
    "model2.reactions.get_by_id(\"LCTSt6\")"
   ]
  },
  {
   "cell_type": "markdown",
   "id": "f9425cf4",
   "metadata": {},
   "source": [
    "Block lactose/galactose antiporter"
   ]
  },
  {
   "cell_type": "code",
   "execution_count": 40,
   "id": "49411808",
   "metadata": {},
   "outputs": [
    {
     "data": {
      "text/html": [
       "\n",
       "        <table>\n",
       "            <tr>\n",
       "                <td><strong>Reaction identifier</strong></td><td>LCTSGALex</td>\n",
       "            </tr><tr>\n",
       "                <td><strong>Name</strong></td><td>lactose-galactose exchange</td>\n",
       "            </tr><tr>\n",
       "                <td><strong>Memory address</strong></td>\n",
       "                <td>0x141c07b20</td>\n",
       "            </tr><tr>\n",
       "                <td><strong>Stoichiometry</strong></td>\n",
       "                <td>\n",
       "                    <p style='text-align:right'>gal_e + lcts_c <=> gal_c + lcts_e</p>\n",
       "                    <p style='text-align:right'>D_Galactose_ + Lactose_ <=> D_Galactose_ + Lactose_</p>\n",
       "                </td>\n",
       "            </tr><tr>\n",
       "                <td><strong>GPR</strong></td><td>CH8_1487</td>\n",
       "            </tr><tr>\n",
       "                <td><strong>Lower bound</strong></td><td>-1000.0</td>\n",
       "            </tr><tr>\n",
       "                <td><strong>Upper bound</strong></td><td>1000.0</td>\n",
       "            </tr>\n",
       "        </table>\n",
       "        "
      ],
      "text/plain": [
       "<Reaction LCTSGALex at 0x141c07b20>"
      ]
     },
     "execution_count": 40,
     "metadata": {},
     "output_type": "execute_result"
    }
   ],
   "source": [
    "model2.reactions.LCTSGALex"
   ]
  },
  {
   "cell_type": "code",
   "execution_count": 41,
   "id": "55b6e4a8",
   "metadata": {},
   "outputs": [],
   "source": [
    "model2.reactions.LCTSGALex.lower_bound = -30.0\n",
    "model2.reactions.LCTSGALex.upper_bound = 1000.0"
   ]
  },
  {
   "cell_type": "code",
   "execution_count": 42,
   "id": "d3a42c0d",
   "metadata": {},
   "outputs": [
    {
     "name": "stdout",
     "output_type": "stream",
     "text": [
      "(-6.0, 1000.0)\n",
      "(0.0, 6.0)\n",
      "(-30.0, 1000.0)\n",
      "(0.0, 30.0)\n",
      "(-30.0, 1000.0)\n"
     ]
    }
   ],
   "source": [
    "# Strept. thermophilus glucose and lactose exchange and transport reactions\n",
    "print(model2.reactions.get_by_id(\"EX_glc_DASH_D_LPAREN_e_RPAREN_\").bounds)\n",
    "print(model2.reactions.get_by_id(\"GLCpts\").bounds)\n",
    "print(model2.reactions.get_by_id(\"EX_lcts_LPAREN_e_RPAREN_\").bounds)\n",
    "print(model2.reactions.get_by_id(\"LCTSt6\").bounds)\n",
    "print(model2.reactions.get_by_id(\"LCTSGALex\").bounds)"
   ]
  },
  {
   "cell_type": "code",
   "execution_count": 43,
   "id": "4c8c40aa",
   "metadata": {},
   "outputs": [
    {
     "data": {
      "text/html": [
       "<strong><em>Optimal</em> solution with objective value 1.415</strong><br><div>\n",
       "<style scoped>\n",
       "    .dataframe tbody tr th:only-of-type {\n",
       "        vertical-align: middle;\n",
       "    }\n",
       "\n",
       "    .dataframe tbody tr th {\n",
       "        vertical-align: top;\n",
       "    }\n",
       "\n",
       "    .dataframe thead th {\n",
       "        text-align: right;\n",
       "    }\n",
       "</style>\n",
       "<table border=\"1\" class=\"dataframe\">\n",
       "  <thead>\n",
       "    <tr style=\"text-align: right;\">\n",
       "      <th></th>\n",
       "      <th>fluxes</th>\n",
       "      <th>reduced_costs</th>\n",
       "    </tr>\n",
       "  </thead>\n",
       "  <tbody>\n",
       "    <tr>\n",
       "      <th>MANpts</th>\n",
       "      <td>0.00000</td>\n",
       "      <td>-5.204170e-18</td>\n",
       "    </tr>\n",
       "    <tr>\n",
       "      <th>PGGT2</th>\n",
       "      <td>0.17607</td>\n",
       "      <td>0.000000e+00</td>\n",
       "    </tr>\n",
       "    <tr>\n",
       "      <th>AIRC</th>\n",
       "      <td>0.00000</td>\n",
       "      <td>3.469447e-18</td>\n",
       "    </tr>\n",
       "    <tr>\n",
       "      <th>Kt2</th>\n",
       "      <td>0.00000</td>\n",
       "      <td>-0.000000e+00</td>\n",
       "    </tr>\n",
       "    <tr>\n",
       "      <th>MOADCST</th>\n",
       "      <td>0.00000</td>\n",
       "      <td>-3.469447e-18</td>\n",
       "    </tr>\n",
       "    <tr>\n",
       "      <th>...</th>\n",
       "      <td>...</td>\n",
       "      <td>...</td>\n",
       "    </tr>\n",
       "    <tr>\n",
       "      <th>EX_sucr_LPAREN_e_RPAREN_</th>\n",
       "      <td>0.00000</td>\n",
       "      <td>-1.003795e-01</td>\n",
       "    </tr>\n",
       "    <tr>\n",
       "      <th>FFSD</th>\n",
       "      <td>0.00000</td>\n",
       "      <td>0.000000e+00</td>\n",
       "    </tr>\n",
       "    <tr>\n",
       "      <th>CASP</th>\n",
       "      <td>0.00000</td>\n",
       "      <td>-6.071532e-18</td>\n",
       "    </tr>\n",
       "    <tr>\n",
       "      <th>EX_caspepm_LPAREN_e_RPAREN_</th>\n",
       "      <td>0.00000</td>\n",
       "      <td>-2.091240e+00</td>\n",
       "    </tr>\n",
       "    <tr>\n",
       "      <th>CASMabc</th>\n",
       "      <td>0.00000</td>\n",
       "      <td>-4.770490e-18</td>\n",
       "    </tr>\n",
       "  </tbody>\n",
       "</table>\n",
       "<p>656 rows × 2 columns</p>\n",
       "</div>"
      ],
      "text/plain": [
       "<Solution 1.415 at 0x141ca79d0>"
      ]
     },
     "execution_count": 43,
     "metadata": {},
     "output_type": "execute_result"
    }
   ],
   "source": [
    "model2.optimize()"
   ]
  },
  {
   "cell_type": "markdown",
   "id": "38d14837",
   "metadata": {},
   "source": [
    "### Dynamic setup for model 1 (E. coli)"
   ]
  },
  {
   "cell_type": "code",
   "execution_count": 73,
   "id": "5c81c5a7",
   "metadata": {},
   "outputs": [],
   "source": [
    "def add_dynamic_bounds_1(model, y):\n",
    "    \"\"\"Use external concentrations to bound the uptake flux of glucose.\"\"\"\n",
    "    biomass, glucose = y  # expand the boundary species\n",
    "    glucose_bounds = (-10.0 * glucose / (5 + glucose),\n",
    "                     1000.0)\n",
    "    model.reactions.EX_glc__D_e.bounds = glucose_bounds\n",
    "    \n",
    "\n",
    "def dynamic_system_1(t, y):\n",
    "    \"\"\"Calculate the time derivative of external species.\"\"\"\n",
    "\n",
    "    global feasibility_1\n",
    "\n",
    "    biomass, glucose = y  # expand the boundary species\n",
    "\n",
    "    # Calculate the specific exchanges fluxes at the given external concentrations.\n",
    "    fluxes = np.zeros(2)\n",
    "    with model:\n",
    "        add_dynamic_bounds_1(model, y)\n",
    "        \n",
    "        model.slim_optimize()\n",
    "\n",
    "        if not model.solver.status == 'infeasible':\n",
    "            all_fluxes = model.optimize()\n",
    "            feasibility_1 = -1.0\n",
    "\n",
    "            for i,obj in enumerate(['BIOMASS_Ecoli_core_w_GAM', 'EX_glc__D_e']):                \n",
    "                fluxes[i] = all_fluxes.fluxes.get(obj)\n",
    "            \n",
    "            # Since the calculated fluxes are specific rates, we multiply them by the\n",
    "            # biomass concentration to get the bulk exchange rates.\n",
    "            fluxes *= biomass\n",
    "\n",
    "        else:\n",
    "            feasibility_1 = 0.0      \n",
    "\n",
    "    return fluxes\n",
    "\n",
    "def infeasible_event_1(t, y):\n",
    "    return feasibility_1\n",
    "\n",
    "infeasible_event_1.direction = 1\n",
    "infeasible_event_1.terminal = True"
   ]
  },
  {
   "cell_type": "markdown",
   "id": "3d4d97f1",
   "metadata": {},
   "source": [
    "### Dynamic setup for model 2 (Streptococcus thermophilus)"
   ]
  },
  {
   "cell_type": "code",
   "execution_count": 45,
   "id": "ccf9a6ab",
   "metadata": {},
   "outputs": [
    {
     "name": "stdout",
     "output_type": "stream",
     "text": [
      "(0.0, 30.0)\n",
      "(0.0, 30.0)\n",
      "(0.0, 30.0)\n",
      "(-30.0, 1000.0)\n",
      "(24.04, 24.04)\n"
     ]
    }
   ],
   "source": [
    "model2.exchanges.EX_succ_LPAREN_e_RPAREN_.bounds = (0.0,30.0)\n",
    "model2.exchanges.EX_glu_DASH_L_LPAREN_e_RPAREN_.bounds = (0.0,30.0)\n",
    "model2.exchanges.EX_gln_DASH_L_LPAREN_e_RPAREN_.bounds = (0.0,30.0)\n",
    "\n",
    "print(model2.exchanges.EX_succ_LPAREN_e_RPAREN_.bounds)\n",
    "print(model2.exchanges.EX_glu_DASH_L_LPAREN_e_RPAREN_.bounds)\n",
    "print(model2.exchanges.EX_gln_DASH_L_LPAREN_e_RPAREN_.bounds)\n",
    "print(model2.exchanges.EX_lcts_LPAREN_e_RPAREN_.bounds)\n",
    "print(model2.exchanges.EX_gal_LPAREN_e_RPAREN_.bounds)"
   ]
  },
  {
   "cell_type": "code",
   "execution_count": 46,
   "id": "93ce7fdf",
   "metadata": {},
   "outputs": [
    {
     "data": {
      "text/html": [
       "<strong><em>Optimal</em> solution with objective value 1.402</strong><br><div>\n",
       "<style scoped>\n",
       "    .dataframe tbody tr th:only-of-type {\n",
       "        vertical-align: middle;\n",
       "    }\n",
       "\n",
       "    .dataframe tbody tr th {\n",
       "        vertical-align: top;\n",
       "    }\n",
       "\n",
       "    .dataframe thead th {\n",
       "        text-align: right;\n",
       "    }\n",
       "</style>\n",
       "<table border=\"1\" class=\"dataframe\">\n",
       "  <thead>\n",
       "    <tr style=\"text-align: right;\">\n",
       "      <th></th>\n",
       "      <th>fluxes</th>\n",
       "      <th>reduced_costs</th>\n",
       "    </tr>\n",
       "  </thead>\n",
       "  <tbody>\n",
       "    <tr>\n",
       "      <th>MANpts</th>\n",
       "      <td>0.000000</td>\n",
       "      <td>-1.734723e-18</td>\n",
       "    </tr>\n",
       "    <tr>\n",
       "      <th>PGGT2</th>\n",
       "      <td>0.174515</td>\n",
       "      <td>0.000000e+00</td>\n",
       "    </tr>\n",
       "    <tr>\n",
       "      <th>AIRC</th>\n",
       "      <td>0.000000</td>\n",
       "      <td>-3.469447e-18</td>\n",
       "    </tr>\n",
       "    <tr>\n",
       "      <th>Kt2</th>\n",
       "      <td>0.000000</td>\n",
       "      <td>-0.000000e+00</td>\n",
       "    </tr>\n",
       "    <tr>\n",
       "      <th>MOADCST</th>\n",
       "      <td>0.000000</td>\n",
       "      <td>3.469447e-18</td>\n",
       "    </tr>\n",
       "    <tr>\n",
       "      <th>...</th>\n",
       "      <td>...</td>\n",
       "      <td>...</td>\n",
       "    </tr>\n",
       "    <tr>\n",
       "      <th>EX_sucr_LPAREN_e_RPAREN_</th>\n",
       "      <td>0.000000</td>\n",
       "      <td>-9.949292e-02</td>\n",
       "    </tr>\n",
       "    <tr>\n",
       "      <th>FFSD</th>\n",
       "      <td>0.000000</td>\n",
       "      <td>0.000000e+00</td>\n",
       "    </tr>\n",
       "    <tr>\n",
       "      <th>CASP</th>\n",
       "      <td>0.000000</td>\n",
       "      <td>0.000000e+00</td>\n",
       "    </tr>\n",
       "    <tr>\n",
       "      <th>EX_caspepm_LPAREN_e_RPAREN_</th>\n",
       "      <td>0.000000</td>\n",
       "      <td>-6.599697e+00</td>\n",
       "    </tr>\n",
       "    <tr>\n",
       "      <th>CASMabc</th>\n",
       "      <td>0.000000</td>\n",
       "      <td>-2.168404e-18</td>\n",
       "    </tr>\n",
       "  </tbody>\n",
       "</table>\n",
       "<p>656 rows × 2 columns</p>\n",
       "</div>"
      ],
      "text/plain": [
       "<Solution 1.402 at 0x141d533a0>"
      ]
     },
     "execution_count": 46,
     "metadata": {},
     "output_type": "execute_result"
    }
   ],
   "source": [
    "model2.optimize()"
   ]
  },
  {
   "cell_type": "code",
   "execution_count": 74,
   "id": "759bbe80",
   "metadata": {},
   "outputs": [],
   "source": [
    "def add_dynamic_bounds_2(model, y):\n",
    "    \"\"\"Use external concentrations to bound the uptake flux of glucose and lactose.\"\"\"\n",
    "    biomass, glucose, succinate, glutamate, glutamine, lactose = y  # expand the boundary species\n",
    "\n",
    "    glucose_bounds = (-6.0 * glucose / (5.0 + glucose),\n",
    "                     1000.0)    \n",
    "    model.reactions.EX_glc_DASH_D_LPAREN_e_RPAREN_.bounds = glucose_bounds\n",
    "\n",
    "    lactose_bounds = (-30.0 * lactose / (0.10 + lactose),\n",
    "                     1000.0)\n",
    "    model.reactions.EX_lcts_LPAREN_e_RPAREN_.bounds = lactose_bounds\n",
    "\n",
    "    succinate_bounds = (0.0,30.0 * succinate / (1.0 + succinate))    \n",
    "    model.reactions.EX_succ_LPAREN_e_RPAREN_.bounds = succinate_bounds\n",
    "\n",
    "    glutamate_bounds = (0.0,30.0 * glutamate / (1.0 + glutamate))    \n",
    "    model.reactions.EX_glu_DASH_L_LPAREN_e_RPAREN_.bounds = glutamate_bounds\n",
    "\n",
    "    glutamine_bounds = (0.0,30.0 * glutamine / (1.0 + glutamine))    \n",
    "    model.reactions.EX_gln_DASH_L_LPAREN_e_RPAREN_.bounds = glutamine_bounds\n",
    "\n",
    "def dynamic_system_2(t, y):\n",
    "    \"\"\"Calculate the time derivative of external species.\"\"\"\n",
    "\n",
    "    global feasibility_2\n",
    "\n",
    "    biomass, glucose, succinate, glutamate, glutamine, lactose = y  # expand the boundary species\n",
    "    \n",
    "    fluxes = np.zeros(6)\n",
    "    with model:\n",
    "        add_dynamic_bounds_2(model, y)\n",
    "        \n",
    "        model.slim_optimize()\n",
    "\n",
    "        if not model.solver.status == 'infeasible':\n",
    "            all_fluxes = model.optimize()\n",
    "            feasibility_2 = -1.0\n",
    "\n",
    "            for i,obj in enumerate(['biomass_STR', 'EX_glc_DASH_D_LPAREN_e_RPAREN_', \n",
    "                                    'EX_succ_LPAREN_e_RPAREN_', 'EX_glu_DASH_L_LPAREN_e_RPAREN_',\n",
    "                                    'EX_gln_DASH_L_LPAREN_e_RPAREN_','EX_lcts_LPAREN_e_RPAREN_']):                \n",
    "                fluxes[i] = all_fluxes.fluxes.get(obj)\n",
    "            \n",
    "            # Since the calculated fluxes are specific rates, we multiply them by the\n",
    "            # biomass concentration to get the bulk exchange rates.\n",
    "            fluxes *= biomass\n",
    "\n",
    "        else:\n",
    "            feasibility_2 = 0.0      \n",
    "\n",
    "    return fluxes    \n",
    "\n",
    "\n",
    "def infeasible_event_2(t, y):\n",
    "    return feasibility_2\n",
    "\n",
    "infeasible_event_2.direction = 1\n",
    "infeasible_event_2.terminal = True\n"
   ]
  },
  {
   "cell_type": "markdown",
   "id": "cf261151",
   "metadata": {},
   "source": [
    "#### Initialize tensorboard"
   ]
  },
  {
   "cell_type": "code",
   "execution_count": 48,
   "id": "e10b19c4",
   "metadata": {},
   "outputs": [
    {
     "name": "stderr",
     "output_type": "stream",
     "text": [
      "2025-09-01 07:18:31.997973: I tensorflow/core/platform/cpu_feature_guard.cc:210] This TensorFlow binary is optimized to use available CPU instructions in performance-critical operations.\n",
      "To enable the following instructions: AVX2 FMA, in other operations, rebuild TensorFlow with the appropriate compiler flags.\n"
     ]
    }
   ],
   "source": [
    "# ! pip install tensorboard\n",
    "from torch.utils.tensorboard import SummaryWriter\n",
    "tbwriter = SummaryWriter('logs/init3_writer')"
   ]
  },
  {
   "cell_type": "markdown",
   "id": "609c3518",
   "metadata": {},
   "source": [
    "Launch a Tensorboard session. The session will populate after model training starts.\n",
    "\n",
    "To display the TensorBoard application, you need to start the TensorBoard server and then open the TensorBoard interface in your web browser. Here are the steps:\n",
    "\n",
    "##### 1. Start the TensorBoard Server\n",
    "\n",
    "Open a terminal, **activate the conda environment** in which your notebook is running, and navigate to the directory where your logs folder is stored. If your logs are stored in the `logs` directory, you can start TensorBoard with the following command:\n",
    "\n",
    "```sh\n",
    "tensorboard --logdir=logs\n",
    "```\n",
    "\n",
    "After starting the TensorBoard server, you will see an output similar to this:\n",
    "\n",
    "```\n",
    "TensorBoard 2.x.x at http://localhost:6006/ (Press CTRL+C to quit)\n",
    "```\n",
    "\n",
    "Open your web browser and go to the URL provided, typically `http://localhost:6006/`.\n",
    "\n",
    "This will display the TensorBoard interface where you can visualize your logs and other metrics. This is by far the most reliable method to start a Tensorboard session.\n",
    "\n",
    "You can also display http://localhost:6006/ directly inside VS code by launching the built-in browser (Cmd+Shift+P and then select \"Simple Browser\").\n",
    "\n",
    "##### 2. Open TensorBoard in a notebook cell\n",
    "Alternatively, you can start the session in a cell with the syntax shown below, and then go to http://localhost:6006/, or go back to the cell output during the run execution. Another alternative is to activate the cell in a different jupyter notebook, and then periodically check the status of training in that notebook.\n",
    "\n",
    "```python\n",
    "%load_ext tensorboard\n",
    "%tensorboard --logdir logs\n",
    "```\n",
    "\n",
    "However, using this method, it may be difficult to terminate the session, and/or restart a new one without restarting VS code.\n"
   ]
  },
  {
   "cell_type": "code",
   "execution_count": null,
   "id": "a3dbf8a5",
   "metadata": {},
   "outputs": [
    {
     "name": "stderr",
     "output_type": "stream",
     "text": [
      " 72%|███████▏  | 287/400 [00:25<00:10, 11.17it/s]"
     ]
    },
    {
     "name": "stdout",
     "output_type": "stream",
     "text": [
      "Both solutions are infeasible\n"
     ]
    },
    {
     "name": "stderr",
     "output_type": "stream",
     "text": [
      "\n"
     ]
    }
   ],
   "source": [
    "import numpy as np\n",
    "from tqdm import tqdm\n",
    "from scipy.integrate import solve_ivp\n",
    "\n",
    "# Prepare the initial conditions for the two models.\n",
    "niter = 400\n",
    "\n",
    "mass_global = np.zeros((2,niter+1))\n",
    "glucose_global = np.zeros(niter+1)\n",
    "succinate_global = np.zeros(niter+1)\n",
    "glutamate_global = np.zeros(niter+1)\n",
    "glutamine_global = np.zeros(niter+1)\n",
    "lactose_global = np.zeros(niter+1)\n",
    "\n",
    "sol1_global = np.zeros((2,niter+1))\n",
    "sol2_global = np.zeros((6,niter+1))\n",
    "sol_status_global = np.zeros((2,niter+1))\n",
    "\n",
    "# Initial conditions\n",
    "y0_1_mass = 1.0\n",
    "y0_2_mass = 1.0\n",
    "y0_glucose = 100.0\n",
    "y0_succinate = 0.0\n",
    "y0_glutamate = 0.0\n",
    "y0_glutamine = 0.0\n",
    "y0_lactose = 100.0\n",
    "\n",
    "y0_1 = [y0_1_mass, y0_glucose] # Initial conditions for biomass, glucose\n",
    "y0_2 = [y0_2_mass, y0_glucose, y0_succinate, y0_glutamate, y0_glutamine, y0_lactose] # Initial conditions for biomass, glucose, lactose\n",
    "\n",
    "# Initialize global solutions with initial conditions\n",
    "sol1_global[:, 0] = y0_1  # Initial conditions for biomass, glucose and acetate in model1\n",
    "sol2_global[:, 0] = y0_2  # Initial conditions for biomass, glucose and acetate in model2\n",
    "sol_status_global[:, 0] = [0, 0]  # Initial status: 0 means successful integration, 1 means event triggered\n",
    "\n",
    "# Initialize global concentrations with initial conditions for each concentration calculated explicitly\n",
    "mass_global[:, 0] = [y0_1_mass, y0_2_mass]\n",
    "glucose_global[0] = y0_glucose\n",
    "succinate_global[0] = y0_succinate\n",
    "glutamate_global[0] = y0_glutamate\n",
    "glutamine_global[0] = y0_glutamine\n",
    "lactose_global[0] = y0_lactose\n",
    "\n",
    "# Initialize tensortboard logs for time 0\n",
    "with tbwriter as writer:\n",
    "    writer.add_scalar('mass_model_1', y0_1_mass, 0)\n",
    "    writer.add_scalar('mass_model_2', y0_2_mass, 0)\n",
    "    writer.add_scalar('glucose', y0_glucose, 0)\n",
    "    writer.add_scalar('succinate', y0_succinate, 0)\n",
    "    writer.add_scalar('glutamate', y0_glutamate, 0)\n",
    "    writer.add_scalar('glutamine', y0_glutamine, 0)\n",
    "    writer.add_scalar('lactose', y0_lactose, 0)\n",
    "\n",
    "t_global = [0]\n",
    "delta_t = 0.01\n",
    "\n",
    "# IMPORTANT: Under certain kinetic parameters concentrations \n",
    "# may become negative, because the combined consumption \n",
    "# of a metabolite by all the species that are using it\n",
    "# during the timestep may exceed its availability. \n",
    "# In this case it is necessary to use a smaller timestep.\n",
    "\n",
    "for iter in tqdm(range(niter)):\n",
    "    \n",
    "    ts = np.linspace(0, delta_t, 2)  # Desired integration resolution and interval\n",
    "\n",
    "    if iter>0 and sol_status_global[0, iter-1] == 1:\n",
    "        pass\n",
    "    else:\n",
    "\n",
    "        with model1 as model:\n",
    "\n",
    "            sol1 = solve_ivp(\n",
    "                fun=dynamic_system_1,\n",
    "                events=[infeasible_event_1],\n",
    "                t_span=(ts.min(), ts.max()),\n",
    "                y0=y0_1,\n",
    "                t_eval=ts,\n",
    "                rtol=1e-3,\n",
    "                atol=1e-6,        \n",
    "                method='RK45'\n",
    "            )\n",
    "\n",
    "\n",
    "    if iter>0 and sol_status_global[1, iter-1] == 1:\n",
    "        pass\n",
    "    else:\n",
    "\n",
    "        with model2 as model:\n",
    "\n",
    "            sol2 = solve_ivp(\n",
    "                fun=dynamic_system_2,\n",
    "                events=[infeasible_event_2],\n",
    "                t_span=(ts.min(), ts.max()),\n",
    "                y0=y0_2,\n",
    "                t_eval=ts,\n",
    "                rtol=1e-3,\n",
    "                atol=1e-6,\n",
    "                method='RK45'\n",
    "            )\n",
    "\n",
    "    # Store the time points\n",
    "    t_global.append(t_global[-1] + delta_t)\n",
    "    \n",
    "    # Store the individual solutions in the global solutions\n",
    "    sol1_global[:, iter+1] = sol1['y'][:, -1]\n",
    "    sol2_global[:, iter+1] = sol2['y'][:, -1]\n",
    "    sol_status_global[:, iter+1] = sol1['status'], sol2['status']\n",
    "\n",
    "    # Update the masses\n",
    "    y0_1_mass = sol1['y'][0, -1]\n",
    "    y0_2_mass = sol2['y'][0, -1]\n",
    "\n",
    "    # Update the glucose concentration subtracting from the initial value\n",
    "    # the sum of both strains updates \n",
    "    d1_glucose = sol1['y'][1,0]-sol1['y'][1,-1]\n",
    "    d2_glucose = sol2['y'][1,0]-sol2['y'][1,-1] \n",
    "    y0_glucose = y0_glucose - d1_glucose - d2_glucose\n",
    "    y0_succinate = sol2['y'][2, -1]\n",
    "    y0_glutamate = sol2['y'][3, -1]\n",
    "    y0_glutamine = sol2['y'][4, -1]\n",
    "    y0_lactose = sol2['y'][5, -1]\n",
    "\n",
    "    # Update the initial conditions for both strains\n",
    "    y0_1 = [y0_1_mass, y0_glucose]\n",
    "    y0_2 = [y0_2_mass, y0_glucose, y0_succinate, y0_glutamate, y0_glutamine, y0_lactose]\n",
    "\n",
    "    # Store the results in the global solutions\n",
    "    mass_global[:, iter+1] = [y0_1_mass, y0_2_mass]\n",
    "    glucose_global[iter+1] = y0_glucose\n",
    "    succinate_global[iter+1] = y0_succinate\n",
    "    glutamate_global[iter+1] = y0_glutamate\n",
    "    glutamine_global[iter+1] = y0_glutamine\n",
    "    lactose_global[iter+1] = y0_lactose\n",
    "    \n",
    "\n",
    "    # Save logs for tensorboard\n",
    "    # with writer as tbwriter:\n",
    "    tbwriter.add_scalar('mass_model_1', y0_1_mass, iter+1)\n",
    "    tbwriter.add_scalar('mass_model_2', y0_2_mass, iter+1)\n",
    "    tbwriter.add_scalar('glucose', y0_glucose, iter+1)\n",
    "    tbwriter.add_scalar('succinate', y0_succinate, iter+1)\n",
    "    tbwriter.add_scalar('glutamate', y0_glutamate, iter+1)\n",
    "    tbwriter.add_scalar('glutamine', y0_glutamine, iter+1)\n",
    "    tbwriter.add_scalar('lactose', y0_lactose, iter+1)\n",
    "\n",
    "    if sol1['status'] == 1 and sol2['status'] == 1:\n",
    "        print(f\"Both solutions are infeasible\")\n",
    "        break\n",
    "\n",
    "    # Break tolerance on masses in the last 5 time points\n",
    "    n_t = len(t_global)\n",
    "    if n_t > 5 and np.max(np.abs(np.diff(mass_global[:, n_t-5:n_t], axis=1))) < 1e-3:\n",
    "        print(f\"Mass balance converged\")\n",
    "        break\n",
    "\n"
   ]
  },
  {
   "cell_type": "markdown",
   "id": "1c123d96",
   "metadata": {},
   "source": [
    "#### Plot timelines of biomass and glucose"
   ]
  },
  {
   "cell_type": "code",
   "execution_count": 77,
   "id": "f14d778c",
   "metadata": {},
   "outputs": [
    {
     "data": {
      "image/png": "[encoded data removed]",
      "text/plain": [
       "<Figure size 1000x600 with 2 Axes>"
      ]
     },
     "metadata": {},
     "output_type": "display_data"
    }
   ],
   "source": [
    "import matplotlib.pyplot as plt\n",
    "%matplotlib inline \n",
    "\n",
    "# t = np.linspace(0, niter * 0.015, niter + 1)\n",
    "n_t = len(t_global)\n",
    "t = t_global\n",
    "\n",
    "fig,ax = plt.subplots(1,1,figsize=(10,6))\n",
    "ax.tick_params(axis='y', colors='m')\n",
    "ax.plot(t, mass_global[0][:n_t], label='COBRApy $E. coli$ ', color='b')\n",
    "ax.plot(t, mass_global[1][:n_t], label='COBRApy $Strept. therm$ ', color='g')\n",
    "# add CBMpy result\n",
    "ax.plot(T, biomasses[model1_cbm.getId()], color=\"blue\", linestyle='--', label=\"CBMpy $E. coli$\")\n",
    "ax.plot(T, biomasses[model2_cbm.getId()], color=\"green\", linestyle='--', label=\"CBMpy $Strept. therm$\")\n",
    "ax2 = plt.twinx(ax)\n",
    "ax2.tick_params(axis='y', colors='r')\n",
    "ax2.plot(t, glucose_global[:n_t], color='r', label='COBRApy Glucose')\n",
    "# ax2.plot(t, succinate_global[:n_t], color='y', label='COBRApy Succinate', linestyle='--')\n",
    "# ax2.plot(t, glutamate_global[:n_t], color='orange', label='COBRApy Glutamate', linestyle='--')\n",
    "# ax2.plot(t, glutamine_global[:n_t], color='purple', label='COBRApy Glutamine', linestyle='--')\n",
    "ax2.plot(t, lactose_global[:n_t], color='c', label='COBRApy Lactose', linestyle='-')\n",
    "# add CBMpy result\n",
    "ax2.plot(T, metabolites[\"M_glc__D_e\"], color=\"red\", linestyle='--', label=\"CBMpy Glucose\")\n",
    "ax2.plot(T, metabolites[\"M_lcts_e\"], color=\"cyan\", linestyle='--', label=\"CBMpy Lactose\")\n",
    "\n",
    "# plot on secondary y-axis the status of both models as colored bars going from 0 to the value of the status\n",
    "\n",
    "ax2.fill_between(t, 0, 5*sol_status_global[0][:n_t], color='b', alpha=0.2, label='Model1 Infeasibility')\n",
    "ax2.fill_between(t, 0, 5*sol_status_global[1][:n_t], color='g', alpha=0.2, label='Model2 Infeasibility')\n",
    "\n",
    "ax.set_ylabel('Biomass (gDW/L)', color='m')\n",
    "ax.set_xlabel('Time (h)', color='k')\n",
    "ax2.set_ylabel('Metabolites (mmol/L)', color='r')\n",
    "\n",
    "ax.grid()\n",
    "\n",
    "# Add a title in two lines. In the second line specifiy mutant 1 is respiratory deficient, and mutant 2 cannot uptake glucose\n",
    "ax.title.set_text(\"Biomass and Metabolite Dynamics\\n $E. coli$ | $Strept. thermophilus$\")\n",
    "\n",
    "# Place legends outside the figure frame on the top right\n",
    "ax.legend(bbox_to_anchor=(1.09, 0.98), loc='upper left')\n",
    "ax2.legend(bbox_to_anchor=(1.09, 0.72), loc='upper left')\n",
    "\n",
    "plt.show()"
   ]
  },
  {
   "cell_type": "code",
   "execution_count": null,
   "id": "882dd743",
   "metadata": {},
   "outputs": [],
   "source": []
  }
 ],
 "metadata": {
  "kernelspec": {
   "display_name": "met_310",
   "language": "python",
   "name": "python3"
  },
  "language_info": {
   "codemirror_mode": {
    "name": "ipython",
    "version": 3
   },
   "file_extension": ".py",
   "mimetype": "text/x-python",
   "name": "python",
   "nbconvert_exporter": "python",
   "pygments_lexer": "ipython3",
   "version": "3.10.13"
  }
 },
 "nbformat": 4,
 "nbformat_minor": 5
}
